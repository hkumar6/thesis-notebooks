{
 "cells": [
  {
   "cell_type": "markdown",
   "metadata": {
    "slideshow": {
     "slide_type": "slide"
    }
   },
   "source": [
    "## Trying to interpret singular vectors"
   ]
  },
  {
   "cell_type": "code",
   "execution_count": 1,
   "metadata": {
    "slideshow": {
     "slide_type": "skip"
    }
   },
   "outputs": [],
   "source": [
    "%run ../imports.py"
   ]
  },
  {
   "cell_type": "code",
   "execution_count": 2,
   "metadata": {
    "slideshow": {
     "slide_type": "slide"
    }
   },
   "outputs": [
    {
     "data": {
      "image/png": "[encoded data removed]",
      "text/plain": [
       "<Figure size 432x288 with 1 Axes>"
      ]
     },
     "metadata": {
      "needs_background": "light"
     },
     "output_type": "display_data"
    }
   ],
   "source": [
    "G = nx.DiGraph()\n",
    "G.add_nodes_from([0,1,2,3])\n",
    "G.add_edges_from([\n",
    "#    (0,1),\n",
    "    (1,2),\n",
    "    (2,3)\n",
    "#    (3,0)\n",
    "])\n",
    "G.add_edge(0,1,weight=1.1)\n",
    "N = nx.number_of_nodes(G)\n",
    "plt.axis('off')\n",
    "nx.draw_networkx(G, pos=graphviz_layout(G, prog='dot'))"
   ]
  },
  {
   "cell_type": "code",
   "execution_count": 3,
   "metadata": {
    "slideshow": {
     "slide_type": "subslide"
    }
   },
   "outputs": [
    {
     "data": {
      "text/plain": [
       "3"
      ]
     },
     "execution_count": 3,
     "metadata": {},
     "output_type": "execute_result"
    }
   ],
   "source": [
    "L = out_degree_laplacian(G)\n",
    "np.linalg.matrix_rank(L)"
   ]
  },
  {
   "cell_type": "code",
   "execution_count": 4,
   "metadata": {},
   "outputs": [
    {
     "data": {
      "text/plain": [
       "matrix([[ 1.1, -1.1,  0. ,  0. ],\n",
       "        [ 0. ,  1. , -1. ,  0. ],\n",
       "        [ 0. ,  0. ,  1. , -1. ],\n",
       "        [ 0. ,  0. ,  0. ,  0. ]])"
      ]
     },
     "execution_count": 4,
     "metadata": {},
     "output_type": "execute_result"
    }
   ],
   "source": [
    "L"
   ]
  },
  {
   "cell_type": "markdown",
   "metadata": {
    "slideshow": {
     "slide_type": "slide"
    }
   },
   "source": [
    "### Symmetrization"
   ]
  },
  {
   "cell_type": "code",
   "execution_count": 5,
   "metadata": {
    "slideshow": {
     "slide_type": "subslide"
    }
   },
   "outputs": [],
   "source": [
    "Q = orth_matrix(L).T\n",
    "rL = np.matmul(Q, np.matmul(L, np.transpose(Q)))\n",
    "sigma = solve_lyapunov(rL, np.identity(np.linalg.matrix_rank(L)))\n",
    "x = 2*np.matmul(np.transpose(Q), np.matmul(sigma, Q))\n",
    "eqL = np.linalg.pinv(x)"
   ]
  },
  {
   "cell_type": "code",
   "execution_count": 17,
   "metadata": {},
   "outputs": [
    {
     "data": {
      "text/plain": [
       "matrix([[ 0.3551, -0.708 ,  0.5704, -0.2175],\n",
       "        [ 0.4859, -0.3921, -0.5972,  0.5034],\n",
       "        [ 0.6227,  0.3082, -0.2607, -0.6703]])"
      ]
     },
     "execution_count": 17,
     "metadata": {},
     "output_type": "execute_result"
    }
   ],
   "source": [
    "Q"
   ]
  },
  {
   "cell_type": "code",
   "execution_count": 6,
   "metadata": {},
   "outputs": [
    {
     "name": "stdout",
     "output_type": "stream",
     "text": [
      "[[ 5.5000e-01 -5.5000e-01 -2.6472e-16 -5.9522e-16]\n",
      " [-5.5000e-01  1.0500e+00 -5.0000e-01  6.5310e-16]\n",
      " [ 4.7030e-16 -5.0000e-01  1.0000e+00 -5.0000e-01]\n",
      " [-5.1871e-16  4.0177e-16 -5.0000e-01  5.0000e-01]]\n"
     ]
    }
   ],
   "source": [
    "print(eqL)"
   ]
  },
  {
   "cell_type": "markdown",
   "metadata": {
    "slideshow": {
     "slide_type": "slide"
    }
   },
   "source": [
    "Create undirected graph from the equivalent Laplacian"
   ]
  },
  {
   "cell_type": "code",
   "execution_count": 7,
   "metadata": {
    "slideshow": {
     "slide_type": "subslide"
    }
   },
   "outputs": [],
   "source": [
    "eqG = nx.Graph()\n",
    "\n",
    "for i in np.arange(0,np.shape(eqL)[0]):\n",
    "    for j in np.arange(i+1,np.shape(eqL)[1]):\n",
    "        eqG.add_edge(i,j,weight=eqL[i,j])"
   ]
  },
  {
   "cell_type": "code",
   "execution_count": 8,
   "metadata": {
    "scrolled": true
   },
   "outputs": [
    {
     "name": "stdout",
     "output_type": "stream",
     "text": [
      "[[ 5.5000e-01 -5.5000e-01 -2.6472e-16 -5.9522e-16]\n",
      " [-5.5000e-01  1.0500e+00 -5.0000e-01  6.5310e-16]\n",
      " [ 4.7030e-16 -5.0000e-01  1.0000e+00 -5.0000e-01]\n",
      " [-5.1871e-16  4.0177e-16 -5.0000e-01  5.0000e-01]]\n"
     ]
    }
   ],
   "source": [
    "print(eqL)"
   ]
  },
  {
   "cell_type": "code",
   "execution_count": 9,
   "metadata": {},
   "outputs": [
    {
     "data": {
      "text/plain": [
       "3"
      ]
     },
     "execution_count": 9,
     "metadata": {},
     "output_type": "execute_result"
    }
   ],
   "source": [
    "np.linalg.matrix_rank(eqL)"
   ]
  },
  {
   "cell_type": "code",
   "execution_count": 10,
   "metadata": {},
   "outputs": [],
   "source": [
    "posG, negG = separate_graphs(eqL)"
   ]
  },
  {
   "cell_type": "code",
   "execution_count": 11,
   "metadata": {},
   "outputs": [
    {
     "data": {
      "image/png": "[encoded data removed]",
      "text/plain": [
       "<Figure size 432x288 with 1 Axes>"
      ]
     },
     "metadata": {
      "needs_background": "light"
     },
     "output_type": "display_data"
    }
   ],
   "source": [
    "nx.draw_networkx(negG)"
   ]
  },
  {
   "cell_type": "code",
   "execution_count": 12,
   "metadata": {},
   "outputs": [
    {
     "name": "stderr",
     "output_type": "stream",
     "text": [
      "/usr/local/lib/python3.7/site-packages/networkx/drawing/nx_pylab.py:611: MatplotlibDeprecationWarning: isinstance(..., numbers.Number)\n",
      "  if cb.is_numlike(alpha):\n"
     ]
    },
    {
     "data": {
      "image/png": "[encoded data removed]",
      "text/plain": [
       "<Figure size 432x288 with 1 Axes>"
      ]
     },
     "metadata": {
      "needs_background": "light"
     },
     "output_type": "display_data"
    }
   ],
   "source": [
    "nx.draw_networkx(posG)"
   ]
  },
  {
   "cell_type": "code",
   "execution_count": 13,
   "metadata": {},
   "outputs": [],
   "source": [
    "eqG = nx.Graph()\n",
    "\n",
    "for i in np.arange(0,np.shape(eqL)[0]):\n",
    "    for j in np.arange(i+1,np.shape(eqL)[1]):\n",
    "        if(np.abs(eqL[i,j]) > 1e-6):\n",
    "            eqG.add_edge(i,j,weight=eqL[i,j])"
   ]
  },
  {
   "cell_type": "code",
   "execution_count": 14,
   "metadata": {},
   "outputs": [],
   "source": [
    "g_neg = eqG.subgraph([1,2,3,4,5])"
   ]
  },
  {
   "cell_type": "code",
   "execution_count": 15,
   "metadata": {},
   "outputs": [
    {
     "data": {
      "text/plain": [
       "(array([-1.5000e+00, -5.0000e-01, -5.6856e-17]),\n",
       " matrix([[ 4.0825e-01,  7.0711e-01,  5.7735e-01],\n",
       "         [-8.1650e-01, -6.1759e-16,  5.7735e-01],\n",
       "         [ 4.0825e-01, -7.0711e-01,  5.7735e-01]]))"
      ]
     },
     "execution_count": 15,
     "metadata": {},
     "output_type": "execute_result"
    }
   ],
   "source": [
    "np.linalg.eig(nx.laplacian_matrix(g_neg).todense())"
   ]
  },
  {
   "cell_type": "code",
   "execution_count": 16,
   "metadata": {},
   "outputs": [
    {
     "data": {
      "text/plain": [
       "matrix([[-0.5,  0.5,  0. ],\n",
       "        [ 0.5, -1. ,  0.5],\n",
       "        [ 0. ,  0.5, -0.5]])"
      ]
     },
     "execution_count": 16,
     "metadata": {},
     "output_type": "execute_result"
    }
   ],
   "source": [
    "nx.laplacian_matrix(g_neg).todense()"
   ]
  },
  {
   "cell_type": "code",
   "execution_count": null,
   "metadata": {},
   "outputs": [],
   "source": []
  }
 ],
 "metadata": {
  "celltoolbar": "Slideshow",
  "kernelspec": {
   "display_name": "Python 3",
   "language": "python",
   "name": "python3"
  },
  "language_info": {
   "codemirror_mode": {
    "name": "ipython",
    "version": 3
   },
   "file_extension": ".py",
   "mimetype": "text/x-python",
   "name": "python",
   "nbconvert_exporter": "python",
   "pygments_lexer": "ipython3",
   "version": "3.7.3"
  }
 },
 "nbformat": 4,
 "nbformat_minor": 2
}
