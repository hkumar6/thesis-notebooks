{
 "cells": [
  {
   "cell_type": "markdown",
   "metadata": {
    "slideshow": {
     "slide_type": "slide"
    }
   },
   "source": [
    "## Rooted-in graph"
   ]
  },
  {
   "cell_type": "markdown",
   "metadata": {},
   "source": [
    "We consider a rooted-in branching graph to understand the symmetrization procedure. Consensus dynamics defined with respect to the out-degree Laplacian should achieve consensus because the Laplacian kernel is one-dimensional."
   ]
  },
  {
   "cell_type": "code",
   "execution_count": 1,
   "metadata": {
    "slideshow": {
     "slide_type": "skip"
    }
   },
   "outputs": [],
   "source": [
    "%run ../imports.py"
   ]
  },
  {
   "cell_type": "code",
   "execution_count": 2,
   "metadata": {
    "slideshow": {
     "slide_type": "slide"
    }
   },
   "outputs": [
    {
     "data": {
      "image/png": "[encoded data removed]",
      "text/plain": [
       "<Figure size 432x288 with 1 Axes>"
      ]
     },
     "metadata": {
      "needs_background": "light"
     },
     "output_type": "display_data"
    }
   ],
   "source": [
    "G = nx.balanced_tree(create_using=nx.DiGraph, h=2, r=2)\n",
    "revG = G.reverse()\n",
    "lay = graphviz_layout(G, prog='dot')\n",
    "nx.draw_networkx(revG, pos=lay)"
   ]
  },
  {
   "cell_type": "code",
   "execution_count": 3,
   "metadata": {
    "slideshow": {
     "slide_type": "subslide"
    }
   },
   "outputs": [
    {
     "data": {
      "text/plain": [
       "6"
      ]
     },
     "execution_count": 3,
     "metadata": {},
     "output_type": "execute_result"
    }
   ],
   "source": [
    "L = out_degree_laplacian(revG)\n",
    "np.linalg.matrix_rank(L)"
   ]
  },
  {
   "cell_type": "code",
   "execution_count": 4,
   "metadata": {},
   "outputs": [
    {
     "data": {
      "text/plain": [
       "matrix([[ 0,  0,  0,  0,  0,  0,  0],\n",
       "        [-1,  1,  0,  0,  0,  0,  0],\n",
       "        [-1,  0,  1,  0,  0,  0,  0],\n",
       "        [ 0, -1,  0,  1,  0,  0,  0],\n",
       "        [ 0, -1,  0,  0,  1,  0,  0],\n",
       "        [ 0,  0, -1,  0,  0,  1,  0],\n",
       "        [ 0,  0, -1,  0,  0,  0,  1]], dtype=int64)"
      ]
     },
     "execution_count": 4,
     "metadata": {},
     "output_type": "execute_result"
    }
   ],
   "source": [
    "L"
   ]
  },
  {
   "cell_type": "markdown",
   "metadata": {
    "slideshow": {
     "slide_type": "slide"
    }
   },
   "source": [
    "### Symmetrization"
   ]
  },
  {
   "cell_type": "code",
   "execution_count": 5,
   "metadata": {
    "slideshow": {
     "slide_type": "subslide"
    }
   },
   "outputs": [],
   "source": [
    "Q = orth_matrix(L).T\n",
    "rL = np.matmul(Q, np.matmul(L, np.transpose(Q)))\n",
    "sigma = solve_lyapunov(rL, np.identity(np.linalg.matrix_rank(L)))\n",
    "x = 2*np.matmul(np.transpose(Q), np.matmul(sigma, Q))\n",
    "eqL = np.linalg.pinv(x)"
   ]
  },
  {
   "cell_type": "code",
   "execution_count": 6,
   "metadata": {},
   "outputs": [
    {
     "name": "stdout",
     "output_type": "stream",
     "text": [
      "[[-4.7596e-01  5.7454e-01  5.7454e-01 -1.6828e-01 -1.6828e-01 -1.6828e-01\n",
      "  -1.6828e-01]\n",
      " [-1.0822e-17  6.2796e-01 -6.2796e-01 -2.2985e-01 -2.2985e-01  2.2985e-01\n",
      "   2.2985e-01]\n",
      " [-7.9410e-01 -1.6446e-01 -1.6446e-01  2.8076e-01  2.8076e-01  2.8076e-01\n",
      "   2.8076e-01]\n",
      " [-2.8037e-18 -3.4041e-16  3.3481e-16 -7.0711e-01  7.0711e-01 -4.1633e-17\n",
      "  -4.1633e-17]\n",
      " [ 0.0000e+00 -1.9626e-16  1.9626e-16 -2.9695e-16 -2.6362e-16 -7.0711e-01\n",
      "   7.0711e-01]\n",
      " [ 1.2111e-15 -3.2506e-01  3.2506e-01 -4.4404e-01 -4.4404e-01  4.4404e-01\n",
      "   4.4404e-01]]\n"
     ]
    }
   ],
   "source": [
    "print(Q)"
   ]
  },
  {
   "cell_type": "code",
   "execution_count": 7,
   "metadata": {},
   "outputs": [
    {
     "name": "stdout",
     "output_type": "stream",
     "text": [
      "[[ 0.6957 -0.4348 -0.4348  0.0435  0.0435  0.0435  0.0435]\n",
      " [-0.4348  1.1884 -0.1449 -0.3188 -0.3188  0.0145  0.0145]\n",
      " [-0.4348 -0.1449  1.1884  0.0145  0.0145 -0.3188 -0.3188]\n",
      " [ 0.0435 -0.3188  0.0145  0.7319 -0.2681 -0.1014 -0.1014]\n",
      " [ 0.0435 -0.3188  0.0145 -0.2681  0.7319 -0.1014 -0.1014]\n",
      " [ 0.0435  0.0145 -0.3188 -0.1014 -0.1014  0.7319 -0.2681]\n",
      " [ 0.0435  0.0145 -0.3188 -0.1014 -0.1014 -0.2681  0.7319]]\n"
     ]
    }
   ],
   "source": [
    "print(eqL)"
   ]
  },
  {
   "cell_type": "markdown",
   "metadata": {
    "slideshow": {
     "slide_type": "slide"
    }
   },
   "source": [
    "Separate the resulting graph into two subgraphs: one with all positive edges and another with the negative ones."
   ]
  },
  {
   "cell_type": "code",
   "execution_count": 8,
   "metadata": {},
   "outputs": [
    {
     "data": {
      "text/plain": [
       "6"
      ]
     },
     "execution_count": 8,
     "metadata": {},
     "output_type": "execute_result"
    }
   ],
   "source": [
    "np.linalg.matrix_rank(eqL)"
   ]
  },
  {
   "cell_type": "code",
   "execution_count": 9,
   "metadata": {},
   "outputs": [],
   "source": [
    "posG, negG = separate_graphs(eqL)"
   ]
  },
  {
   "cell_type": "code",
   "execution_count": 11,
   "metadata": {},
   "outputs": [
    {
     "data": {
      "image/png": "[encoded data removed]",
      "text/plain": [
       "<Figure size 432x288 with 1 Axes>"
      ]
     },
     "metadata": {
      "needs_background": "light"
     },
     "output_type": "display_data"
    }
   ],
   "source": [
    "nx.draw_networkx(negG)"
   ]
  },
  {
   "cell_type": "code",
   "execution_count": 12,
   "metadata": {},
   "outputs": [
    {
     "data": {
      "image/png": "[encoded data removed]",
      "text/plain": [
       "<Figure size 432x288 with 1 Axes>"
      ]
     },
     "metadata": {
      "needs_background": "light"
     },
     "output_type": "display_data"
    }
   ],
   "source": [
    "nx.draw_networkx(posG)"
   ]
  },
  {
   "cell_type": "markdown",
   "metadata": {},
   "source": [
    "There are negative weights appearing with a one-dimensional kernel. We will see below that the consensus is acheived, demonstrating the correctness of the implementation. It is to be noted that the resulting graph Laplacian is not signed, i.e. the degree of a node is the sum of all adjacent edge weights with sign."
   ]
  },
  {
   "cell_type": "markdown",
   "metadata": {},
   "source": [
    "## Consensus"
   ]
  },
  {
   "cell_type": "code",
   "execution_count": 13,
   "metadata": {},
   "outputs": [],
   "source": [
    "N = nx.number_of_nodes(revG)"
   ]
  },
  {
   "cell_type": "code",
   "execution_count": 14,
   "metadata": {},
   "outputs": [],
   "source": [
    "init = np.random.rand(N)"
   ]
  },
  {
   "cell_type": "code",
   "execution_count": 15,
   "metadata": {},
   "outputs": [],
   "source": [
    "f1 = lambda t,x: -np.asarray(L.dot(x))[0]\n",
    "f2 = lambda t,x: -np.asarray(eqL.dot(x))[0]"
   ]
  },
  {
   "cell_type": "code",
   "execution_count": 16,
   "metadata": {},
   "outputs": [],
   "source": [
    "res1 = solve_ivp(fun=f1, t_span=[0,20], y0=init)\n",
    "res2 = solve_ivp(fun=f2, t_span=[0,20], y0=init)"
   ]
  },
  {
   "cell_type": "code",
   "execution_count": 17,
   "metadata": {},
   "outputs": [
    {
     "data": {
      "text/plain": [
       "array([0.0466, 0.0466, 0.0466, 0.0466, 0.0466, 0.0466, 0.0466])"
      ]
     },
     "execution_count": 17,
     "metadata": {},
     "output_type": "execute_result"
    }
   ],
   "source": [
    "res1.y[:,-1]"
   ]
  },
  {
   "cell_type": "code",
   "execution_count": 18,
   "metadata": {},
   "outputs": [
    {
     "data": {
      "text/plain": [
       "array([0.5248, 0.5254, 0.5251, 0.5252, 0.5252, 0.5252, 0.5252])"
      ]
     },
     "execution_count": 18,
     "metadata": {},
     "output_type": "execute_result"
    }
   ],
   "source": [
    "res2.y[:,-1]"
   ]
  },
  {
   "cell_type": "code",
   "execution_count": null,
   "metadata": {},
   "outputs": [],
   "source": []
  }
 ],
 "metadata": {
  "celltoolbar": "Slideshow",
  "kernelspec": {
   "display_name": "Python 3",
   "language": "python",
   "name": "python3"
  },
  "language_info": {
   "codemirror_mode": {
    "name": "ipython",
    "version": 3
   },
   "file_extension": ".py",
   "mimetype": "text/x-python",
   "name": "python",
   "nbconvert_exporter": "python",
   "pygments_lexer": "ipython3",
   "version": "3.7.3"
  }
 },
 "nbformat": 4,
 "nbformat_minor": 2
}
