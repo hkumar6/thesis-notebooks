{
 "cells": [
  {
   "cell_type": "markdown",
   "metadata": {
    "slideshow": {
     "slide_type": "slide"
    }
   },
   "source": [
    "## Directed graph symmetrization\n",
    "\n",
    "Fitch, K. (2018). Metric preserving directed graph symmetrization, 1–16. Retrieved from http://arxiv.org/abs/1802.09829\n",
    "\n",
    "Strongly connected, positively weighted graph."
   ]
  },
  {
   "cell_type": "code",
   "execution_count": 1,
   "metadata": {
    "slideshow": {
     "slide_type": "skip"
    }
   },
   "outputs": [],
   "source": [
    "import networkx as nx\n",
    "import matplotlib.pyplot as plt\n",
    "import numpy as np"
   ]
  },
  {
   "cell_type": "raw",
   "metadata": {
    "slideshow": {
     "slide_type": "skip"
    }
   },
   "source": [
    "N = 5\n",
    "g = nx.scale_free_graph(N)\n",
    "while not nx.is_strongly_connected(g):\n",
    "    e1 = np.random.randint(N)\n",
    "    e2 = np.random.randint(N)\n",
    "    if not (g.has_edge(e1,e2) and g.has_edge(e2,e1)):\n",
    "        g.add_edge(e1, e2)"
   ]
  },
  {
   "cell_type": "code",
   "execution_count": 2,
   "metadata": {
    "slideshow": {
     "slide_type": "slide"
    }
   },
   "outputs": [],
   "source": [
    "g = nx.balanced_tree(create_using=nx.DiGraph(), h=2, r=2)"
   ]
  },
  {
   "cell_type": "code",
   "execution_count": 3,
   "metadata": {},
   "outputs": [
    {
     "data": {
      "image/png": "[encoded data removed]",
      "text/plain": [
       "<Figure size 432x288 with 1 Axes>"
      ]
     },
     "metadata": {
      "needs_background": "light"
     },
     "output_type": "display_data"
    }
   ],
   "source": [
    "nx.draw_networkx(g)"
   ]
  },
  {
   "cell_type": "markdown",
   "metadata": {
    "slideshow": {
     "slide_type": "slide"
    }
   },
   "source": [
    "Compute the Laplacian for the graph."
   ]
  },
  {
   "cell_type": "code",
   "execution_count": 4,
   "metadata": {},
   "outputs": [
    {
     "data": {
      "text/plain": [
       "6"
      ]
     },
     "execution_count": 4,
     "metadata": {},
     "output_type": "execute_result"
    }
   ],
   "source": [
    "N = nx.number_of_nodes(g)\n",
    "A = nx.adjacency_matrix(g).transpose()\n",
    "D = np.diag(np.asarray(np.sum(A, axis=1)).reshape(-1))\n",
    "L = D - A\n",
    "np.linalg.matrix_rank(L)"
   ]
  },
  {
   "cell_type": "markdown",
   "metadata": {
    "slideshow": {
     "slide_type": "slide"
    }
   },
   "source": [
    "Orthonormal basis \n",
    "$Q \\in \\mathbb{R}^{(N-1)\\times N}$\n",
    "\n",
    "$Q$ is the orthonormal basis of the nullspace of $\\mathbf{1}_N$, i.e., $\\mathcal{N}(\\mathbf{1}_N)$"
   ]
  },
  {
   "cell_type": "code",
   "execution_count": 5,
   "metadata": {},
   "outputs": [],
   "source": [
    "from scipy.linalg import null_space"
   ]
  },
  {
   "cell_type": "code",
   "execution_count": 6,
   "metadata": {},
   "outputs": [],
   "source": [
    "Q = null_space(np.ones((N,N))).transpose()"
   ]
  },
  {
   "cell_type": "markdown",
   "metadata": {
    "slideshow": {
     "slide_type": "slide"
    }
   },
   "source": [
    "$Q\\mathbf{1}_n = \\mathbf{0}$"
   ]
  },
  {
   "cell_type": "code",
   "execution_count": 7,
   "metadata": {
    "scrolled": false
   },
   "outputs": [
    {
     "data": {
      "text/plain": [
       "array([-1.66533454e-16,  1.66533454e-16, -1.11022302e-16,  1.11022302e-16,\n",
       "        0.00000000e+00,  0.00000000e+00])"
      ]
     },
     "execution_count": 7,
     "metadata": {},
     "output_type": "execute_result"
    }
   ],
   "source": [
    "np.printoptions(suppress=True)\n",
    "np.sum(Q, axis=1)"
   ]
  },
  {
   "cell_type": "markdown",
   "metadata": {
    "slideshow": {
     "slide_type": "slide"
    }
   },
   "source": [
    "$QQ^T = I_{(n-1)}$"
   ]
  },
  {
   "cell_type": "code",
   "execution_count": 8,
   "metadata": {},
   "outputs": [
    {
     "name": "stdout",
     "output_type": "stream",
     "text": [
      "[[ 1.00000000e+00 -2.23597688e-17  1.33675531e-17 -2.16219739e-18\n",
      "   1.85660735e-19  9.90194323e-19]\n",
      " [-2.23597688e-17  1.00000000e+00 -7.28359248e-17 -5.76728506e-17\n",
      "   7.37748427e-18 -9.57648415e-18]\n",
      " [ 1.33675531e-17 -7.28359248e-17  1.00000000e+00 -3.54851499e-16\n",
      "   8.46049395e-18 -1.39693750e-17]\n",
      " [-2.16219739e-18 -5.76728506e-17 -3.54851499e-16  1.00000000e+00\n",
      "  -1.85959823e-16 -1.88574792e-17]\n",
      " [ 1.85660735e-19  7.37748427e-18  8.46049395e-18 -1.85959823e-16\n",
      "   1.00000000e+00 -1.42019186e-16]\n",
      " [ 9.90194323e-19 -9.57648415e-18 -1.39693750e-17 -1.88574792e-17\n",
      "  -1.42019186e-16  1.00000000e+00]]\n"
     ]
    }
   ],
   "source": [
    "print(np.matmul(Q, np.transpose(Q)))"
   ]
  },
  {
   "cell_type": "markdown",
   "metadata": {
    "slideshow": {
     "slide_type": "slide"
    }
   },
   "source": [
    "Compute Reduced Laplacian\n",
    "\n",
    "$\\bar{L} = QLQ^T$"
   ]
  },
  {
   "cell_type": "code",
   "execution_count": 9,
   "metadata": {},
   "outputs": [],
   "source": [
    "rL = np.matmul(Q, np.matmul(L, np.transpose(Q)))"
   ]
  },
  {
   "cell_type": "code",
   "execution_count": 10,
   "metadata": {},
   "outputs": [
    {
     "data": {
      "text/plain": [
       "matrix([[ 0.00000000e+00,  1.01418511e+00, -1.24211801e+00,\n",
       "          1.47415560e-16,  2.28479933e-17,  9.90194323e-19],\n",
       "        [-1.01418511e+00,  0.00000000e+00,  2.22044605e-16,\n",
       "         -6.32455532e-01,  8.94427191e-01,  8.63412700e-17],\n",
       "        [ 1.24211801e+00, -2.22044605e-16,  0.00000000e+00,\n",
       "         -5.16397779e-01,  7.30296743e-01,  6.54017076e-17],\n",
       "        [-1.47415560e-16,  6.32455532e-01,  5.16397779e-01,\n",
       "          0.00000000e+00, -1.79009300e-16, -2.10209437e-17],\n",
       "        [-2.28479933e-17, -8.94427191e-01, -7.30296743e-01,\n",
       "          1.79009300e-16,  0.00000000e+00,  0.00000000e+00],\n",
       "        [-9.90194323e-19, -8.63412700e-17, -6.54017076e-17,\n",
       "          2.10209437e-17,  0.00000000e+00,  0.00000000e+00]])"
      ]
     },
     "execution_count": 10,
     "metadata": {},
     "output_type": "execute_result"
    }
   ],
   "source": [
    "rL - np.transpose(rL)"
   ]
  },
  {
   "cell_type": "markdown",
   "metadata": {
    "slideshow": {
     "slide_type": "slide"
    }
   },
   "source": [
    "Solve the Lyapunov equation\n",
    "$\\bar { L } \\Sigma + \\Sigma \\bar { L } ^ { T } = I _ { n - 1 }$"
   ]
  },
  {
   "cell_type": "code",
   "execution_count": 11,
   "metadata": {},
   "outputs": [],
   "source": [
    "from scipy.linalg import solve_lyapunov"
   ]
  },
  {
   "cell_type": "code",
   "execution_count": 12,
   "metadata": {},
   "outputs": [],
   "source": [
    "sigma = solve_lyapunov(rL, np.identity(N-1))"
   ]
  },
  {
   "cell_type": "markdown",
   "metadata": {
    "slideshow": {
     "slide_type": "slide"
    }
   },
   "source": [
    "Project from $\\mathbb { R } ^ { ( n - 1 ) \\times ( n - 1 ) }$ to $\\mathbb { R } ^ { n \\times n }$ by $X = 2 Q ^ { T } \\Sigma Q$"
   ]
  },
  {
   "cell_type": "code",
   "execution_count": 13,
   "metadata": {},
   "outputs": [],
   "source": [
    "x = 2*np.matmul(np.transpose(Q), np.matmul(sigma, Q))"
   ]
  },
  {
   "cell_type": "markdown",
   "metadata": {
    "slideshow": {
     "slide_type": "slide"
    }
   },
   "source": [
    "Pseudoinverse $\\hat { L } _ { u } = X ^ { + }$ gives the equivalent Laplacian"
   ]
  },
  {
   "cell_type": "code",
   "execution_count": 14,
   "metadata": {},
   "outputs": [],
   "source": [
    "eqL = np.linalg.pinv(x)"
   ]
  },
  {
   "cell_type": "code",
   "execution_count": 15,
   "metadata": {},
   "outputs": [
    {
     "data": {
      "text/plain": [
       "(7, 7)"
      ]
     },
     "execution_count": 15,
     "metadata": {},
     "output_type": "execute_result"
    }
   ],
   "source": [
    "np.shape(eqL)"
   ]
  },
  {
   "cell_type": "code",
   "execution_count": 16,
   "metadata": {},
   "outputs": [
    {
     "data": {
      "text/plain": [
       "6"
      ]
     },
     "execution_count": 16,
     "metadata": {},
     "output_type": "execute_result"
    }
   ],
   "source": [
    "np.linalg.matrix_rank(eqL)"
   ]
  },
  {
   "cell_type": "markdown",
   "metadata": {
    "slideshow": {
     "slide_type": "slide"
    }
   },
   "source": [
    "Check eigenvalues of both Laplacian matrices"
   ]
  },
  {
   "cell_type": "code",
   "execution_count": 17,
   "metadata": {},
   "outputs": [
    {
     "data": {
      "text/plain": [
       "array([2.10100299e+00, 1.93185165e+00, 1.25928013e+00, 1.00000000e+00,\n",
       "       1.00000000e+00, 5.17638090e-01, 8.90158753e-17])"
      ]
     },
     "execution_count": 17,
     "metadata": {},
     "output_type": "execute_result"
    }
   ],
   "source": [
    "u1, s1, v1 = np.linalg.svd(L)\n",
    "s1"
   ]
  },
  {
   "cell_type": "code",
   "execution_count": 18,
   "metadata": {
    "scrolled": true
   },
   "outputs": [
    {
     "data": {
      "text/plain": [
       "array([1.62554324e+00, 1.57735027e+00, 1.00000000e+00, 1.00000000e+00,\n",
       "       4.22649731e-01, 3.74456758e-01, 2.55080042e-17])"
      ]
     },
     "execution_count": 18,
     "metadata": {},
     "output_type": "execute_result"
    }
   ],
   "source": [
    "u2, s2, v2 = np.linalg.svd(eqL)\n",
    "s2"
   ]
  },
  {
   "cell_type": "markdown",
   "metadata": {
    "slideshow": {
     "slide_type": "slide"
    }
   },
   "source": [
    "### Comparison to the linear model"
   ]
  },
  {
   "cell_type": "code",
   "execution_count": 20,
   "metadata": {
    "slideshow": {
     "slide_type": "subslide"
    }
   },
   "outputs": [],
   "source": [
    "from scipy.integrate import solve_ivp"
   ]
  },
  {
   "cell_type": "code",
   "execution_count": 21,
   "metadata": {
    "slideshow": {
     "slide_type": "subslide"
    }
   },
   "outputs": [],
   "source": [
    "init = np.random.rand(N)\n",
    "f1 = lambda t,x: np.asarray(-L.dot(x))[0]\n",
    "res1 = solve_ivp(fun=f1, t_span=[0,20], y0=init)\n",
    "f2 = lambda t,x: -eqL.dot(x)\n",
    "res2 = solve_ivp(fun=f2, t_span=[0,20], y0=init)"
   ]
  },
  {
   "cell_type": "code",
   "execution_count": 22,
   "metadata": {
    "slideshow": {
     "slide_type": "subslide"
    }
   },
   "outputs": [
    {
     "data": {
      "text/plain": [
       "0.5744019484494238"
      ]
     },
     "execution_count": 22,
     "metadata": {},
     "output_type": "execute_result"
    }
   ],
   "source": [
    "np.mean(init)"
   ]
  },
  {
   "cell_type": "code",
   "execution_count": 23,
   "metadata": {},
   "outputs": [
    {
     "data": {
      "image/png": "[encoded data removed]",
      "text/plain": [
       "<Figure size 432x288 with 1 Axes>"
      ]
     },
     "metadata": {
      "needs_background": "light"
     },
     "output_type": "display_data"
    }
   ],
   "source": [
    "for i in np.arange(0,N):\n",
    "    plt.plot(res1.t, res1.y[i,:], color=\"blue\", label=\"\")\n",
    "    plt.plot(res2.t, res2.y[i,:], color=\"red\")"
   ]
  }
 ],
 "metadata": {
  "celltoolbar": "Slideshow",
  "kernelspec": {
   "display_name": "Python 3",
   "language": "python",
   "name": "python3"
  },
  "language_info": {
   "codemirror_mode": {
    "name": "ipython",
    "version": 3
   },
   "file_extension": ".py",
   "mimetype": "text/x-python",
   "name": "python",
   "nbconvert_exporter": "python",
   "pygments_lexer": "ipython3",
   "version": "3.7.1"
  }
 },
 "nbformat": 4,
 "nbformat_minor": 2
}
