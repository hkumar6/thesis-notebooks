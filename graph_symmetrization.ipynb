{
 "cells": [
  {
   "cell_type": "markdown",
   "metadata": {},
   "source": [
    "## Directed graph symmetrization\n",
    "\n",
    "Fitch, K. (2018). Metric preserving directed graph symmetrization, 1–16. Retrieved from http://arxiv.org/abs/1802.09829\n",
    "\n",
    "Strongly connected, positively weighted graph."
   ]
  },
  {
   "cell_type": "code",
   "execution_count": 1,
   "metadata": {},
   "outputs": [],
   "source": [
    "import networkx as nx\n",
    "import matplotlib.pyplot as plt\n",
    "import numpy as np"
   ]
  },
  {
   "cell_type": "code",
   "execution_count": 2,
   "metadata": {},
   "outputs": [],
   "source": [
    "N = 5\n",
    "g = nx.scale_free_graph(N)\n",
    "while not nx.is_strongly_connected(g):\n",
    "    e1 = np.random.randint(N)\n",
    "    e2 = np.random.randint(N)\n",
    "    g.add_edge(e1, e2)"
   ]
  },
  {
   "cell_type": "markdown",
   "metadata": {},
   "source": [
    "Compute the Laplacian for the graph."
   ]
  },
  {
   "cell_type": "code",
   "execution_count": 3,
   "metadata": {},
   "outputs": [
    {
     "data": {
      "text/plain": [
       "4"
      ]
     },
     "execution_count": 3,
     "metadata": {},
     "output_type": "execute_result"
    }
   ],
   "source": [
    "A = nx.adjacency_matrix(g)\n",
    "D = np.diag(np.asarray(np.sum(nx.adjacency_matrix(g), axis=1)).reshape(-1))\n",
    "L = D - A\n",
    "np.linalg.matrix_rank(L)"
   ]
  },
  {
   "cell_type": "markdown",
   "metadata": {},
   "source": [
    "Orthonormal basis \n",
    "$Q \\in \\mathbb{R}^{(N-1)\\times N}$\n",
    "\n",
    "$Q$ is the orthonormal basis of the nullspace of $\\mathbf{1}_N$, i.e., $\\mathcal{N}(\\mathbf{1}_N)$"
   ]
  },
  {
   "cell_type": "code",
   "execution_count": 4,
   "metadata": {},
   "outputs": [],
   "source": [
    "from scipy.linalg import null_space"
   ]
  },
  {
   "cell_type": "code",
   "execution_count": 5,
   "metadata": {},
   "outputs": [],
   "source": [
    "Q = null_space(np.ones((N,N))).transpose()"
   ]
  },
  {
   "cell_type": "markdown",
   "metadata": {},
   "source": [
    "$Q\\mathbf{1}_n = \\mathbf{0}$"
   ]
  },
  {
   "cell_type": "code",
   "execution_count": 6,
   "metadata": {
    "scrolled": false
   },
   "outputs": [
    {
     "data": {
      "text/plain": [
       "array([-2.22044605e-16, -3.33066907e-16,  0.00000000e+00,  0.00000000e+00])"
      ]
     },
     "execution_count": 6,
     "metadata": {},
     "output_type": "execute_result"
    }
   ],
   "source": [
    "np.printoptions(suppress=True)\n",
    "np.sum(Q, axis=1)"
   ]
  },
  {
   "cell_type": "markdown",
   "metadata": {},
   "source": [
    "$QQ^T = I_{(n-1)}$"
   ]
  },
  {
   "cell_type": "code",
   "execution_count": 7,
   "metadata": {},
   "outputs": [
    {
     "name": "stdout",
     "output_type": "stream",
     "text": [
      "[[ 1.00000000e+00  5.91241522e-17  3.30407515e-18  9.02409675e-18]\n",
      " [ 5.91241522e-17  1.00000000e+00 -4.12931954e-16  4.66130548e-17]\n",
      " [ 3.30407515e-18 -4.12931954e-16  1.00000000e+00  6.37665793e-17]\n",
      " [ 9.02409675e-18  4.66130548e-17  6.37665793e-17  1.00000000e+00]]\n"
     ]
    }
   ],
   "source": [
    "print(np.matmul(Q, np.transpose(Q)))"
   ]
  },
  {
   "cell_type": "markdown",
   "metadata": {},
   "source": [
    "Compute Reduced Laplacian\n",
    "\n",
    "$\\bar{L} = QLQ^T$"
   ]
  },
  {
   "cell_type": "code",
   "execution_count": 8,
   "metadata": {},
   "outputs": [],
   "source": [
    "rL = np.matmul(Q, np.matmul(L, np.transpose(Q)))"
   ]
  },
  {
   "cell_type": "code",
   "execution_count": 9,
   "metadata": {},
   "outputs": [
    {
     "data": {
      "text/plain": [
       "matrix([[ 0.        ,  1.29099445, -0.09128709, -3.32039154],\n",
       "        [-1.29099445,  0.        , -0.35355339,  1.83711731],\n",
       "        [ 0.09128709,  0.35355339,  0.        , -1.73205081],\n",
       "        [ 3.32039154, -1.83711731,  1.73205081,  0.        ]])"
      ]
     },
     "execution_count": 9,
     "metadata": {},
     "output_type": "execute_result"
    }
   ],
   "source": [
    "rL - np.transpose(rL)"
   ]
  },
  {
   "cell_type": "markdown",
   "metadata": {},
   "source": [
    "Solve the Lyapunov equation\n",
    "$\\bar { L } \\Sigma + \\Sigma \\bar { L } ^ { T } = I _ { n - 1 }$"
   ]
  },
  {
   "cell_type": "code",
   "execution_count": 10,
   "metadata": {},
   "outputs": [],
   "source": [
    "from scipy.linalg import solve_lyapunov"
   ]
  },
  {
   "cell_type": "code",
   "execution_count": 11,
   "metadata": {},
   "outputs": [],
   "source": [
    "sigma = solve_lyapunov(rL, np.identity(N-1))"
   ]
  },
  {
   "cell_type": "markdown",
   "metadata": {},
   "source": [
    "Project from $\\mathbb { R } ^ { ( n - 1 ) \\times ( n - 1 ) }$ to $\\mathbb { R } ^ { n \\times n }$ by $X = 2 Q ^ { T } \\Sigma Q$"
   ]
  },
  {
   "cell_type": "code",
   "execution_count": 12,
   "metadata": {},
   "outputs": [],
   "source": [
    "x = 2*np.matmul(np.transpose(Q), np.matmul(sigma, Q))"
   ]
  },
  {
   "cell_type": "markdown",
   "metadata": {},
   "source": [
    "Pseudoinverse $\\hat { L } _ { u } = X ^ { + }$"
   ]
  },
  {
   "cell_type": "code",
   "execution_count": 13,
   "metadata": {},
   "outputs": [],
   "source": [
    "eqL = np.linalg.pinv(x)"
   ]
  },
  {
   "cell_type": "code",
   "execution_count": 14,
   "metadata": {},
   "outputs": [
    {
     "data": {
      "text/plain": [
       "(5, 5)"
      ]
     },
     "execution_count": 14,
     "metadata": {},
     "output_type": "execute_result"
    }
   ],
   "source": [
    "np.shape(eqL)"
   ]
  },
  {
   "cell_type": "code",
   "execution_count": 15,
   "metadata": {},
   "outputs": [
    {
     "data": {
      "text/plain": [
       "4"
      ]
     },
     "execution_count": 15,
     "metadata": {},
     "output_type": "execute_result"
    }
   ],
   "source": [
    "np.linalg.matrix_rank(eqL)"
   ]
  },
  {
   "cell_type": "markdown",
   "metadata": {},
   "source": [
    "Check eigenvalues of both Laplacian matrices"
   ]
  },
  {
   "cell_type": "code",
   "execution_count": 16,
   "metadata": {},
   "outputs": [
    {
     "data": {
      "text/plain": [
       "array([1.09516888e+01, 8.44169823e+00, 6.91802304e+00, 5.19029879e+00,\n",
       "       9.73844530e-16])"
      ]
     },
     "execution_count": 16,
     "metadata": {},
     "output_type": "execute_result"
    }
   ],
   "source": [
    "u1, s1, v1 = np.linalg.svd(L)\n",
    "s1"
   ]
  },
  {
   "cell_type": "code",
   "execution_count": 17,
   "metadata": {
    "scrolled": true
   },
   "outputs": [
    {
     "data": {
      "text/plain": [
       "array([1.05304811e+01, 7.76531715e+00, 6.72431720e+00, 4.97988455e+00,\n",
       "       1.69917905e-15])"
      ]
     },
     "execution_count": 17,
     "metadata": {},
     "output_type": "execute_result"
    }
   ],
   "source": [
    "u2, s2, v2 = np.linalg.svd(eqL)\n",
    "s2"
   ]
  },
  {
   "cell_type": "code",
   "execution_count": 18,
   "metadata": {},
   "outputs": [
    {
     "data": {
      "text/plain": [
       "array([[ 0.00000000e+00,  2.22044605e-16, -8.88178420e-16,\n",
       "         2.22044605e-15, -4.21884749e-15],\n",
       "       [-2.22044605e-16,  0.00000000e+00, -3.33066907e-15,\n",
       "        -7.77156117e-16, -3.10862447e-15],\n",
       "       [ 8.88178420e-16,  3.33066907e-15,  0.00000000e+00,\n",
       "        -6.66133815e-16,  1.99840144e-15],\n",
       "       [-2.22044605e-15,  7.77156117e-16,  6.66133815e-16,\n",
       "         0.00000000e+00,  2.22044605e-16],\n",
       "       [ 4.21884749e-15,  3.10862447e-15, -1.99840144e-15,\n",
       "        -2.22044605e-16,  0.00000000e+00]])"
      ]
     },
     "execution_count": 18,
     "metadata": {},
     "output_type": "execute_result"
    }
   ],
   "source": [
    "eqL - eqL.transpose()"
   ]
  },
  {
   "cell_type": "markdown",
   "metadata": {},
   "source": [
    "### Comparison to the linear model"
   ]
  },
  {
   "cell_type": "code",
   "execution_count": 19,
   "metadata": {},
   "outputs": [],
   "source": [
    "from scipy.integrate import solve_ivp"
   ]
  },
  {
   "cell_type": "code",
   "execution_count": 20,
   "metadata": {},
   "outputs": [],
   "source": [
    "init = np.random.rand(N)\n",
    "f1 = lambda t,x: np.asarray(-L.dot(x))[0]\n",
    "res1 = solve_ivp(fun=f1, t_span=[0,20], y0=init)\n",
    "f2 = lambda t,x: -eqL.dot(x)\n",
    "res2 = solve_ivp(fun=f2, t_span=[0,20], y0=init)"
   ]
  },
  {
   "cell_type": "code",
   "execution_count": 21,
   "metadata": {},
   "outputs": [
    {
     "data": {
      "text/plain": [
       "0.4462641648895394"
      ]
     },
     "execution_count": 21,
     "metadata": {},
     "output_type": "execute_result"
    }
   ],
   "source": [
    "np.mean(init)"
   ]
  },
  {
   "cell_type": "code",
   "execution_count": 22,
   "metadata": {},
   "outputs": [
    {
     "data": {
      "image/png": "[encoded data removed]",
      "text/plain": [
       "<Figure size 432x288 with 1 Axes>"
      ]
     },
     "metadata": {
      "needs_background": "light"
     },
     "output_type": "display_data"
    }
   ],
   "source": [
    "for i in np.arange(0,N):\n",
    "    plt.plot(res1.y[i,:], color=\"blue\")\n",
    "    plt.plot(res2.y[i,:], color=\"red\")"
   ]
  }
 ],
 "metadata": {
  "kernelspec": {
   "display_name": "Python 3",
   "language": "python",
   "name": "python3"
  },
  "language_info": {
   "codemirror_mode": {
    "name": "ipython",
    "version": 3
   },
   "file_extension": ".py",
   "mimetype": "text/x-python",
   "name": "python",
   "nbconvert_exporter": "python",
   "pygments_lexer": "ipython3",
   "version": "3.7.0"
  }
 },
 "nbformat": 4,
 "nbformat_minor": 2
}
