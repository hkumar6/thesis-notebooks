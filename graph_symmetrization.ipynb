{
 "cells": [
  {
   "cell_type": "markdown",
   "metadata": {},
   "source": [
    "## Directed graph symmetrization\n",
    "\n",
    "Fitch, K. (2018). Metric preserving directed graph symmetrization, 1–16. Retrieved from http://arxiv.org/abs/1802.09829\n",
    "\n",
    "Strongly connected, positively weighted graph."
   ]
  },
  {
   "cell_type": "code",
   "execution_count": 1,
   "metadata": {},
   "outputs": [],
   "source": [
    "import networkx as nx\n",
    "import matplotlib.pyplot as plt\n",
    "import numpy as np"
   ]
  },
  {
   "cell_type": "code",
   "execution_count": 2,
   "metadata": {},
   "outputs": [],
   "source": [
    "N = 20\n",
    "g = nx.scale_free_graph(N)\n",
    "while not nx.is_strongly_connected(g):\n",
    "    e1 = np.random.randint(N)\n",
    "    e2 = np.random.randint(N)\n",
    "    # print(e1, e2)\n",
    "    g.add_edge(e1, e2)"
   ]
  },
  {
   "cell_type": "markdown",
   "metadata": {},
   "source": [
    "Compute the Laplacian for the graph."
   ]
  },
  {
   "cell_type": "code",
   "execution_count": 3,
   "metadata": {},
   "outputs": [
    {
     "data": {
      "text/plain": [
       "19"
      ]
     },
     "execution_count": 3,
     "metadata": {},
     "output_type": "execute_result"
    }
   ],
   "source": [
    "A = nx.adjacency_matrix(g)\n",
    "D = np.diag(np.asarray(np.sum(nx.adjacency_matrix(g), axis=1)).reshape(-1))\n",
    "L = D - A\n",
    "np.linalg.matrix_rank(L)"
   ]
  },
  {
   "cell_type": "markdown",
   "metadata": {},
   "source": [
    "Orthonormal basis \n",
    "$Q \\in \\mathbb{R}^{(N-1)\\times N}$"
   ]
  },
  {
   "cell_type": "code",
   "execution_count": 4,
   "metadata": {},
   "outputs": [],
   "source": [
    "from scipy.linalg import orth"
   ]
  },
  {
   "cell_type": "code",
   "execution_count": 5,
   "metadata": {},
   "outputs": [
    {
     "data": {
      "text/plain": [
       "(19, 20)"
      ]
     },
     "execution_count": 5,
     "metadata": {},
     "output_type": "execute_result"
    }
   ],
   "source": [
    "Q = np.transpose(orth(L))\n",
    "np.shape(Q)"
   ]
  },
  {
   "cell_type": "markdown",
   "metadata": {},
   "source": [
    "$Q\\mathbf{1}_n = \\mathbf{0}$"
   ]
  },
  {
   "cell_type": "code",
   "execution_count": 6,
   "metadata": {
    "scrolled": true
   },
   "outputs": [
    {
     "data": {
      "text/plain": [
       "array([-2.26404248,  0.31040736, -0.15227898, -0.67154792,  0.3283503 ,\n",
       "        0.30849148, -0.01951389, -0.85311264,  0.20118445,  0.21751457,\n",
       "        0.09972203,  1.04711688,  1.02580861, -1.13194748, -0.1362201 ,\n",
       "       -0.63760544, -1.04063442, -0.55910604, -1.11299702])"
      ]
     },
     "execution_count": 6,
     "metadata": {},
     "output_type": "execute_result"
    }
   ],
   "source": [
    "np.sum(Q, axis=1)"
   ]
  },
  {
   "cell_type": "markdown",
   "metadata": {},
   "source": [
    "$QQ^T = I_{(n-1)}$"
   ]
  },
  {
   "cell_type": "code",
   "execution_count": 7,
   "metadata": {},
   "outputs": [
    {
     "data": {
      "text/plain": [
       "array([[ 1.00000000e+00, -7.54184866e-16,  9.45716790e-17,\n",
       "        -5.24226963e-17, -1.24779869e-16,  1.08120174e-16,\n",
       "        -4.13639470e-17,  1.08761511e-16,  3.01088464e-17,\n",
       "        -6.85654350e-18,  5.14113882e-17, -4.22783712e-17,\n",
       "        -1.11278013e-17,  3.27492375e-17,  6.55168260e-17,\n",
       "         1.11973227e-16, -1.40160941e-17,  1.96373623e-17,\n",
       "         8.88377904e-18],\n",
       "       [-7.54184866e-16,  1.00000000e+00, -4.65882686e-16,\n",
       "         1.58387035e-16, -1.00224840e-17, -5.46030154e-18,\n",
       "         4.26618736e-16,  1.42767124e-16, -8.13066434e-17,\n",
       "        -6.92114179e-17, -1.14884699e-17,  9.99296770e-17,\n",
       "         6.53713154e-17, -1.47954749e-16, -8.96492618e-17,\n",
       "        -1.11796000e-16, -1.50116924e-17,  5.39123605e-18,\n",
       "        -2.49201458e-17],\n",
       "       [ 9.45716790e-17, -4.65882686e-16,  1.00000000e+00,\n",
       "        -4.79399599e-16,  2.15025044e-16,  2.46496025e-16,\n",
       "        -2.32814223e-16,  2.80238480e-16, -1.86198568e-16,\n",
       "         4.00566546e-16, -1.60762422e-17, -3.27636140e-17,\n",
       "        -4.88357082e-17,  6.03457218e-17, -1.49405868e-16,\n",
       "         2.94542777e-16, -8.60199545e-17,  7.84443036e-18,\n",
       "         3.85954033e-17],\n",
       "       [-5.24226963e-17,  1.58387035e-16, -4.79399599e-16,\n",
       "         1.00000000e+00,  1.60858883e-16, -2.84076963e-16,\n",
       "         8.84484541e-17, -6.90699345e-16, -5.65750614e-16,\n",
       "         1.54771000e-16,  1.27397445e-16, -1.37162787e-16,\n",
       "         4.79836651e-17,  8.99811522e-17, -1.07010224e-16,\n",
       "        -7.56411914e-17,  2.53305412e-16, -2.04313645e-17,\n",
       "        -1.64563786e-16],\n",
       "       [-1.24779869e-16, -1.00224840e-17,  2.15025044e-16,\n",
       "         1.60858883e-16,  1.00000000e+00, -1.57347014e-16,\n",
       "         1.73814686e-17,  4.84130121e-17, -3.33652510e-16,\n",
       "        -1.77902004e-16,  5.11799256e-17,  7.12342111e-17,\n",
       "         8.40025626e-17,  1.41932988e-16, -2.24393732e-16,\n",
       "         2.41774049e-17,  5.35601196e-16, -1.13934111e-16,\n",
       "        -3.12572670e-16],\n",
       "       [ 1.08120174e-16, -5.46030154e-18,  2.46496025e-16,\n",
       "        -2.84076963e-16, -1.57347014e-16,  1.00000000e+00,\n",
       "         9.61830023e-17, -2.64783747e-17,  8.05432449e-17,\n",
       "         4.55775458e-17,  2.92090296e-17, -1.78800818e-16,\n",
       "         1.00199903e-16,  3.53601869e-16, -3.82460298e-16,\n",
       "         2.80325493e-16,  4.08313169e-17,  4.73145774e-17,\n",
       "         8.49551527e-17],\n",
       "       [-4.13639470e-17,  4.26618736e-16, -2.32814223e-16,\n",
       "         8.84484541e-17,  1.73814686e-17,  9.61830023e-17,\n",
       "         1.00000000e+00, -2.23926299e-16, -3.01891422e-16,\n",
       "         2.81889053e-16,  8.02932477e-17, -1.53927210e-17,\n",
       "        -8.46203802e-17, -3.48877497e-16, -1.53762203e-17,\n",
       "        -2.85824546e-18, -2.30982626e-16,  8.88951339e-17,\n",
       "         2.36974223e-16],\n",
       "       [ 1.08761511e-16,  1.42767124e-16,  2.80238480e-16,\n",
       "        -6.90699345e-16,  4.84130121e-17, -2.64783747e-17,\n",
       "        -2.23926299e-16,  1.00000000e+00,  3.87574679e-16,\n",
       "         2.16966126e-16, -1.99139212e-17,  3.66599317e-17,\n",
       "        -7.90332874e-17,  4.01139460e-17, -1.75257642e-17,\n",
       "        -8.36151752e-17, -1.98216271e-16,  1.59751312e-17,\n",
       "         4.48043833e-17],\n",
       "       [ 3.01088464e-17, -8.13066434e-17, -1.86198568e-16,\n",
       "        -5.65750614e-16, -3.33652510e-16,  8.05432449e-17,\n",
       "        -3.01891422e-16,  3.87574679e-16,  1.00000000e+00,\n",
       "         3.00636479e-16, -2.15713761e-17,  1.01232812e-16,\n",
       "        -8.09122696e-17,  5.79943264e-17,  1.06852704e-16,\n",
       "         1.60450073e-16, -3.29044498e-16, -6.41800592e-17,\n",
       "        -1.52887101e-16],\n",
       "       [-6.85654350e-18, -6.92114179e-17,  4.00566546e-16,\n",
       "         1.54771000e-16, -1.77902004e-16,  4.55775458e-17,\n",
       "         2.81889053e-16,  2.16966126e-16,  3.00636479e-16,\n",
       "         1.00000000e+00, -3.50424910e-17, -9.99209698e-17,\n",
       "         1.93272379e-16, -3.11704546e-17,  1.09613784e-16,\n",
       "         3.19782559e-17,  2.62170387e-16, -6.97177540e-17,\n",
       "        -2.05713884e-16],\n",
       "       [ 5.14113882e-17, -1.14884699e-17, -1.60762422e-17,\n",
       "         1.27397445e-16,  5.11799256e-17,  2.92090296e-17,\n",
       "         8.02932477e-17, -1.99139212e-17, -2.15713761e-17,\n",
       "        -3.50424910e-17,  1.00000000e+00, -3.81264631e-16,\n",
       "         4.51247756e-16,  1.10094518e-16,  4.59301031e-16,\n",
       "         1.10417468e-16, -2.02219665e-17,  2.05954268e-16,\n",
       "        -1.07753704e-16],\n",
       "       [-4.22783712e-17,  9.99296770e-17, -3.27636140e-17,\n",
       "        -1.37162787e-16,  7.12342111e-17, -1.78800818e-16,\n",
       "        -1.53927210e-17,  3.66599317e-17,  1.01232812e-16,\n",
       "        -9.99209698e-17, -3.81264631e-16,  1.00000000e+00,\n",
       "        -1.14511977e-16, -2.97016563e-16, -2.30852862e-18,\n",
       "        -2.61235416e-16, -1.30674114e-16,  2.07219175e-16,\n",
       "         2.38793553e-16],\n",
       "       [-1.11278013e-17,  6.53713154e-17, -4.88357082e-17,\n",
       "         4.79836651e-17,  8.40025626e-17,  1.00199903e-16,\n",
       "        -8.46203802e-17, -7.90332874e-17, -8.09122696e-17,\n",
       "         1.93272379e-16,  4.51247756e-16, -1.14511977e-16,\n",
       "         1.00000000e+00, -7.06873649e-17, -3.56805531e-16,\n",
       "         4.75643713e-18, -5.43210182e-17,  4.32684257e-16,\n",
       "        -1.86402924e-16],\n",
       "       [ 3.27492375e-17, -1.47954749e-16,  6.03457218e-17,\n",
       "         8.99811522e-17,  1.41932988e-16,  3.53601869e-16,\n",
       "        -3.48877497e-16,  4.01139460e-17,  5.79943264e-17,\n",
       "        -3.11704546e-17,  1.10094518e-16, -2.97016563e-16,\n",
       "        -7.06873649e-17,  1.00000000e+00, -2.11364033e-16,\n",
       "         2.35361366e-16, -1.69791922e-16,  2.22243663e-18,\n",
       "        -1.77619746e-16],\n",
       "       [ 6.55168260e-17, -8.96492618e-17, -1.49405868e-16,\n",
       "        -1.07010224e-16, -2.24393732e-16, -3.82460298e-16,\n",
       "        -1.53762203e-17, -1.75257642e-17,  1.06852704e-16,\n",
       "         1.09613784e-16,  4.59301031e-16, -2.30852862e-18,\n",
       "        -3.56805531e-16, -2.11364033e-16,  1.00000000e+00,\n",
       "         3.52783431e-17, -1.94717249e-16, -2.65234606e-16,\n",
       "         6.51104245e-17],\n",
       "       [ 1.11973227e-16, -1.11796000e-16,  2.94542777e-16,\n",
       "        -7.56411914e-17,  2.41774049e-17,  2.80325493e-16,\n",
       "        -2.85824546e-18, -8.36151752e-17,  1.60450073e-16,\n",
       "         3.19782559e-17,  1.10417468e-16, -2.61235416e-16,\n",
       "         4.75643713e-18,  2.35361366e-16,  3.52783431e-17,\n",
       "         1.00000000e+00, -3.87225300e-16, -9.47507263e-17,\n",
       "         1.02557142e-17],\n",
       "       [-1.40160941e-17, -1.50116924e-17, -8.60199545e-17,\n",
       "         2.53305412e-16,  5.35601196e-16,  4.08313169e-17,\n",
       "        -2.30982626e-16, -1.98216271e-16, -3.29044498e-16,\n",
       "         2.62170387e-16, -2.02219665e-17, -1.30674114e-16,\n",
       "        -5.43210182e-17, -1.69791922e-16, -1.94717249e-16,\n",
       "        -3.87225300e-16,  1.00000000e+00, -5.01158573e-17,\n",
       "        -3.49960638e-16],\n",
       "       [ 1.96373623e-17,  5.39123605e-18,  7.84443036e-18,\n",
       "        -2.04313645e-17, -1.13934111e-16,  4.73145774e-17,\n",
       "         8.88951339e-17,  1.59751312e-17, -6.41800592e-17,\n",
       "        -6.97177540e-17,  2.05954268e-16,  2.07219175e-16,\n",
       "         4.32684257e-16,  2.22243663e-18, -2.65234606e-16,\n",
       "        -9.47507263e-17, -5.01158573e-17,  1.00000000e+00,\n",
       "         2.47461196e-16],\n",
       "       [ 8.88377904e-18, -2.49201458e-17,  3.85954033e-17,\n",
       "        -1.64563786e-16, -3.12572670e-16,  8.49551527e-17,\n",
       "         2.36974223e-16,  4.48043833e-17, -1.52887101e-16,\n",
       "        -2.05713884e-16, -1.07753704e-16,  2.38793553e-16,\n",
       "        -1.86402924e-16, -1.77619746e-16,  6.51104245e-17,\n",
       "         1.02557142e-17, -3.49960638e-16,  2.47461196e-16,\n",
       "         1.00000000e+00]])"
      ]
     },
     "execution_count": 7,
     "metadata": {},
     "output_type": "execute_result"
    }
   ],
   "source": [
    "np.matmul(Q, np.transpose(Q))"
   ]
  },
  {
   "cell_type": "markdown",
   "metadata": {},
   "source": [
    "Compute Reduced Laplacian\n",
    "\n",
    "$\\bar{L} = QLQ^T$"
   ]
  },
  {
   "cell_type": "code",
   "execution_count": 8,
   "metadata": {},
   "outputs": [],
   "source": [
    "rL = np.matmul(Q, np.matmul(L, np.transpose(Q)))"
   ]
  },
  {
   "cell_type": "markdown",
   "metadata": {},
   "source": [
    "Solve the Lyapunov equation\n",
    "$\\bar { L } \\Sigma + \\Sigma \\bar { L } ^ { T } = I _ { n - 1 }$"
   ]
  },
  {
   "cell_type": "code",
   "execution_count": 9,
   "metadata": {},
   "outputs": [],
   "source": [
    "from scipy.linalg import solve_lyapunov"
   ]
  },
  {
   "cell_type": "code",
   "execution_count": 10,
   "metadata": {},
   "outputs": [],
   "source": [
    "sigma = solve_lyapunov(rL, np.identity(N-1))"
   ]
  },
  {
   "cell_type": "markdown",
   "metadata": {},
   "source": [
    "Project from $\\mathbb { R } ^ { ( n - 1 ) \\times ( n - 1 ) }$ to $\\mathbb { R } ^ { n \\times n }$ by $X = 2 Q ^ { T } \\Sigma Q$"
   ]
  },
  {
   "cell_type": "code",
   "execution_count": 11,
   "metadata": {},
   "outputs": [],
   "source": [
    "x = 2*np.matmul(np.transpose(Q), np.matmul(sigma, Q))"
   ]
  },
  {
   "cell_type": "markdown",
   "metadata": {},
   "source": [
    "Pseudoinverse $\\hat { L } _ { u } = X ^ { + }$"
   ]
  },
  {
   "cell_type": "code",
   "execution_count": 12,
   "metadata": {},
   "outputs": [],
   "source": [
    "eqL = np.linalg.pinv(x)"
   ]
  },
  {
   "cell_type": "code",
   "execution_count": 13,
   "metadata": {},
   "outputs": [
    {
     "data": {
      "text/plain": [
       "(20, 20)"
      ]
     },
     "execution_count": 13,
     "metadata": {},
     "output_type": "execute_result"
    }
   ],
   "source": [
    "np.shape(eqL)"
   ]
  },
  {
   "cell_type": "markdown",
   "metadata": {},
   "source": [
    "Check eigenvalues of both Laplacian matrices"
   ]
  },
  {
   "cell_type": "code",
   "execution_count": 14,
   "metadata": {},
   "outputs": [
    {
     "data": {
      "text/plain": [
       "array([1.03994133e+01, 8.18068672e+00, 7.25605332e+00, 6.61718213e+00,\n",
       "       6.03197917e+00, 5.85389950e+00, 5.40700428e+00, 5.11970691e+00,\n",
       "       4.70548828e+00, 3.63747223e+00, 3.42313710e+00, 3.14696905e+00,\n",
       "       2.93416358e+00, 2.68135211e+00, 2.43994205e+00, 2.00012459e+00,\n",
       "       1.49910071e+00, 8.76414297e-01, 7.93006895e-01, 9.58551150e-16])"
      ]
     },
     "execution_count": 14,
     "metadata": {},
     "output_type": "execute_result"
    }
   ],
   "source": [
    "u1, s1, v1 = np.linalg.svd(L)\n",
    "s1"
   ]
  },
  {
   "cell_type": "code",
   "execution_count": 15,
   "metadata": {
    "scrolled": true
   },
   "outputs": [
    {
     "data": {
      "text/plain": [
       "array([8.06795472e+00, 7.80833368e+00, 6.99931226e+00, 6.38968846e+00,\n",
       "       5.77892151e+00, 5.61918921e+00, 5.13986588e+00, 4.67998005e+00,\n",
       "       4.44698993e+00, 3.37812664e+00, 3.24262607e+00, 2.83484221e+00,\n",
       "       2.72786754e+00, 2.39940427e+00, 2.13502996e+00, 1.80695414e+00,\n",
       "       1.06490173e+00, 8.12144950e-01, 6.67866776e-01, 1.94587913e-16])"
      ]
     },
     "execution_count": 15,
     "metadata": {},
     "output_type": "execute_result"
    }
   ],
   "source": [
    "u2, s2, v2 = np.linalg.svd(eqL)\n",
    "s2"
   ]
  },
  {
   "cell_type": "code",
   "execution_count": 16,
   "metadata": {},
   "outputs": [],
   "source": [
    "from scipy.integrate import solve_ivp"
   ]
  },
  {
   "cell_type": "code",
   "execution_count": 17,
   "metadata": {},
   "outputs": [],
   "source": [
    "init = np.random.rand(N)\n",
    "f1 = lambda t,x: np.asarray(-L.dot(x))[0]\n",
    "f1(0,init)\n",
    "res1 = solve_ivp(fun=f1, t_span=[0,1000], y0=init)\n",
    "f2 = lambda t,x: -eqL.dot(x)\n",
    "res2 = solve_ivp(fun=f2, t_span=[0,1000], y0=init)"
   ]
  },
  {
   "cell_type": "code",
   "execution_count": 18,
   "metadata": {},
   "outputs": [
    {
     "data": {
      "text/plain": [
       "numpy.matrixlib.defmatrix.matrix"
      ]
     },
     "execution_count": 18,
     "metadata": {},
     "output_type": "execute_result"
    }
   ],
   "source": [
    "type(L)"
   ]
  },
  {
   "cell_type": "code",
   "execution_count": 19,
   "metadata": {},
   "outputs": [
    {
     "data": {
      "text/plain": [
       "numpy.ndarray"
      ]
     },
     "execution_count": 19,
     "metadata": {},
     "output_type": "execute_result"
    }
   ],
   "source": [
    "type(eqL)"
   ]
  },
  {
   "cell_type": "code",
   "execution_count": 20,
   "metadata": {},
   "outputs": [
    {
     "data": {
      "image/png": "[encoded data removed]",
      "text/plain": [
       "<Figure size 1152x1440 with 20 Axes>"
      ]
     },
     "metadata": {
      "needs_background": "light"
     },
     "output_type": "display_data"
    }
   ],
   "source": [
    "plt.figure(figsize=(16,20))\n",
    "for i in np.arange(0,N):\n",
    "    plt.subplot(5,4,i+1)\n",
    "    plt.plot(res1.y[i,:], label=r'$L$')\n",
    "    plt.plot(res2.y[i,:], label=r'$\\hat{L}_u$')\n",
    "    plt.legend()"
   ]
  },
  {
   "cell_type": "code",
   "execution_count": 24,
   "metadata": {},
   "outputs": [
    {
     "data": {
      "text/plain": [
       "0.15247981210543396"
      ]
     },
     "execution_count": 24,
     "metadata": {},
     "output_type": "execute_result"
    }
   ],
   "source": [
    "np.mean(res2.y[:,-1])"
   ]
  },
  {
   "cell_type": "code",
   "execution_count": null,
   "metadata": {},
   "outputs": [],
   "source": []
  }
 ],
 "metadata": {
  "kernelspec": {
   "display_name": "Python 3",
   "language": "python",
   "name": "python3"
  },
  "language_info": {
   "codemirror_mode": {
    "name": "ipython",
    "version": 3
   },
   "file_extension": ".py",
   "mimetype": "text/x-python",
   "name": "python",
   "nbconvert_exporter": "python",
   "pygments_lexer": "ipython3",
   "version": "3.7.0"
  }
 },
 "nbformat": 4,
 "nbformat_minor": 2
}
