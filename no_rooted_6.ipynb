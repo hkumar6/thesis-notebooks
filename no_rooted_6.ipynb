{
 "cells": [
  {
   "cell_type": "markdown",
   "metadata": {
    "slideshow": {
     "slide_type": "slide"
    }
   },
   "source": [
    "## Trying to interpret singular vectors"
   ]
  },
  {
   "cell_type": "code",
   "execution_count": 1,
   "metadata": {
    "slideshow": {
     "slide_type": "skip"
    }
   },
   "outputs": [],
   "source": [
    "import networkx as nx\n",
    "from networkx.drawing.nx_agraph import write_dot, graphviz_layout\n",
    "import matplotlib.pyplot as plt\n",
    "import numpy as np\n",
    "from scipy.linalg import solve_lyapunov\n",
    "from scipy.integrate import solve_ivp"
   ]
  },
  {
   "cell_type": "code",
   "execution_count": 2,
   "metadata": {
    "slideshow": {
     "slide_type": "slide"
    }
   },
   "outputs": [
    {
     "data": {
      "image/png": "[encoded data removed]",
      "text/plain": [
       "<Figure size 432x288 with 1 Axes>"
      ]
     },
     "metadata": {
      "needs_background": "light"
     },
     "output_type": "display_data"
    }
   ],
   "source": [
    "G = nx.DiGraph()\n",
    "G.add_nodes_from([0,1,2,3])\n",
    "G.add_edges_from([\n",
    "    (1,0),\n",
    "    (2,1),\n",
    "    (3,1)\n",
    "])\n",
    "N = nx.number_of_nodes(G)\n",
    "nx.draw_networkx(G, pos=graphviz_layout(G, prog='dot'))"
   ]
  },
  {
   "cell_type": "code",
   "execution_count": 3,
   "metadata": {
    "slideshow": {
     "slide_type": "subslide"
    }
   },
   "outputs": [
    {
     "data": {
      "text/plain": [
       "2"
      ]
     },
     "execution_count": 3,
     "metadata": {},
     "output_type": "execute_result"
    }
   ],
   "source": [
    "A = nx.adjacency_matrix(G).transpose()\n",
    "D = np.diag(np.asarray(np.sum(A, axis=1)).reshape(-1))\n",
    "L = A - D\n",
    "np.linalg.matrix_rank(L)"
   ]
  },
  {
   "cell_type": "markdown",
   "metadata": {
    "slideshow": {
     "slide_type": "slide"
    }
   },
   "source": [
    "### Symmetrization"
   ]
  },
  {
   "cell_type": "code",
   "execution_count": 4,
   "metadata": {},
   "outputs": [],
   "source": [
    "def orth_matrix(A):\n",
    "    u, s, vh = np.linalg.svd(A, full_matrices=True)\n",
    "    M, N = u.shape[0], vh.shape[1]\n",
    "    rcond = np.finfo(s.dtype).eps * max(M, N)\n",
    "    tol = np.amax(s) * rcond\n",
    "    num = np.sum(s > tol, dtype=int)\n",
    "    Q = vh[0:num,:].T.conj()\n",
    "    return Q"
   ]
  },
  {
   "cell_type": "code",
   "execution_count": 5,
   "metadata": {
    "slideshow": {
     "slide_type": "subslide"
    }
   },
   "outputs": [],
   "source": [
    "Q = orth_matrix(L).T\n",
    "rL = np.matmul(Q, np.matmul(L, np.transpose(Q)))\n",
    "sigma = solve_lyapunov(rL, np.identity(np.linalg.matrix_rank(L)))\n",
    "x = 2*np.matmul(np.transpose(Q), np.matmul(sigma, Q))\n",
    "eqL = np.linalg.pinv(x)"
   ]
  },
  {
   "cell_type": "code",
   "execution_count": 6,
   "metadata": {},
   "outputs": [
    {
     "data": {
      "text/plain": [
       "matrix([[-0.14644661,  0.85355339, -0.35355339, -0.35355339],\n",
       "        [-0.85355339,  0.14644661,  0.35355339,  0.35355339]])"
      ]
     },
     "execution_count": 6,
     "metadata": {},
     "output_type": "execute_result"
    }
   ],
   "source": [
    "Q"
   ]
  },
  {
   "cell_type": "markdown",
   "metadata": {
    "slideshow": {
     "slide_type": "slide"
    }
   },
   "source": [
    "Create undirected graph from the equivalent Laplacian"
   ]
  },
  {
   "cell_type": "code",
   "execution_count": 7,
   "metadata": {
    "slideshow": {
     "slide_type": "subslide"
    }
   },
   "outputs": [],
   "source": [
    "eqG = nx.Graph()\n",
    "\n",
    "for i in np.arange(0,np.shape(eqL)[0]):\n",
    "    for j in np.arange(i+1,np.shape(eqL)[1]):\n",
    "        eqG.add_edge(i,j,weight=eqL[i,j])"
   ]
  },
  {
   "cell_type": "code",
   "execution_count": 8,
   "metadata": {
    "scrolled": true
   },
   "outputs": [
    {
     "data": {
      "text/plain": [
       "matrix([[-0.61363636,  0.47727273,  0.06818182,  0.06818182],\n",
       "        [ 0.47727273, -1.70454545,  0.61363636,  0.61363636],\n",
       "        [ 0.06818182,  0.61363636, -0.34090909, -0.34090909],\n",
       "        [ 0.06818182,  0.61363636, -0.34090909, -0.34090909]])"
      ]
     },
     "execution_count": 8,
     "metadata": {},
     "output_type": "execute_result"
    }
   ],
   "source": [
    "eqL"
   ]
  },
  {
   "cell_type": "code",
   "execution_count": 9,
   "metadata": {},
   "outputs": [
    {
     "data": {
      "text/plain": [
       "2"
      ]
     },
     "execution_count": 9,
     "metadata": {},
     "output_type": "execute_result"
    }
   ],
   "source": [
    "np.linalg.matrix_rank(eqL)"
   ]
  },
  {
   "cell_type": "code",
   "execution_count": 10,
   "metadata": {},
   "outputs": [],
   "source": [
    "negG = nx.Graph()\n",
    "\n",
    "for i in np.arange(0,N):\n",
    "    for j in np.arange(i+1,N):\n",
    "        if(eqL[i,j] < -1e-6):\n",
    "            negG.add_edge(i,j)"
   ]
  },
  {
   "cell_type": "code",
   "execution_count": 11,
   "metadata": {},
   "outputs": [
    {
     "name": "stderr",
     "output_type": "stream",
     "text": [
      "/usr/local/lib/python3.7/site-packages/networkx/drawing/nx_pylab.py:611: MatplotlibDeprecationWarning: isinstance(..., numbers.Number)\n",
      "  if cb.is_numlike(alpha):\n"
     ]
    },
    {
     "data": {
      "image/png": "[encoded data removed]",
      "text/plain": [
       "<Figure size 432x288 with 1 Axes>"
      ]
     },
     "metadata": {
      "needs_background": "light"
     },
     "output_type": "display_data"
    }
   ],
   "source": [
    "nx.draw_networkx(negG)"
   ]
  },
  {
   "cell_type": "code",
   "execution_count": 12,
   "metadata": {},
   "outputs": [],
   "source": [
    "posG = nx.Graph()\n",
    "\n",
    "for i in np.arange(0,N):\n",
    "    for j in np.arange(i+1,N):\n",
    "        if(eqL[i,j] > 1e-6):\n",
    "            posG.add_edge(i,j)"
   ]
  },
  {
   "cell_type": "code",
   "execution_count": 13,
   "metadata": {},
   "outputs": [
    {
     "data": {
      "image/png": "[encoded data removed]",
      "text/plain": [
       "<Figure size 432x288 with 1 Axes>"
      ]
     },
     "metadata": {
      "needs_background": "light"
     },
     "output_type": "display_data"
    }
   ],
   "source": [
    "nx.draw_networkx(posG)"
   ]
  },
  {
   "cell_type": "code",
   "execution_count": 14,
   "metadata": {},
   "outputs": [],
   "source": [
    "eqG = nx.Graph()\n",
    "\n",
    "for i in np.arange(0,np.shape(eqL)[0]):\n",
    "    for j in np.arange(i+1,np.shape(eqL)[1]):\n",
    "        if(np.abs(eqL[i,j]) > 1e-6):\n",
    "            eqG.add_edge(i,j,weight=eqL[i,j])"
   ]
  },
  {
   "cell_type": "code",
   "execution_count": 15,
   "metadata": {},
   "outputs": [],
   "source": [
    "g_neg = eqG.subgraph([1,2,3,4,5])"
   ]
  },
  {
   "cell_type": "code",
   "execution_count": 16,
   "metadata": {},
   "outputs": [
    {
     "data": {
      "text/plain": [
       "(array([ 1.84090909e+00, -1.11022302e-16, -6.81818182e-02]),\n",
       " matrix([[ 8.16496581e-01, -5.77350269e-01,  4.42760435e-16],\n",
       "         [-4.08248290e-01, -5.77350269e-01, -7.07106781e-01],\n",
       "         [-4.08248290e-01, -5.77350269e-01,  7.07106781e-01]]))"
      ]
     },
     "execution_count": 16,
     "metadata": {},
     "output_type": "execute_result"
    }
   ],
   "source": [
    "np.linalg.eig(nx.laplacian_matrix(g_neg).todense())"
   ]
  },
  {
   "cell_type": "code",
   "execution_count": 17,
   "metadata": {},
   "outputs": [
    {
     "data": {
      "text/plain": [
       "matrix([[ 1.22727273, -0.61363636, -0.61363636],\n",
       "        [-0.61363636,  0.27272727,  0.34090909],\n",
       "        [-0.61363636,  0.34090909,  0.27272727]])"
      ]
     },
     "execution_count": 17,
     "metadata": {},
     "output_type": "execute_result"
    }
   ],
   "source": [
    "nx.laplacian_matrix(g_neg).todense()"
   ]
  },
  {
   "cell_type": "code",
   "execution_count": null,
   "metadata": {},
   "outputs": [],
   "source": []
  }
 ],
 "metadata": {
  "celltoolbar": "Slideshow",
  "kernelspec": {
   "display_name": "Python 3",
   "language": "python",
   "name": "python3"
  },
  "language_info": {
   "codemirror_mode": {
    "name": "ipython",
    "version": 3
   },
   "file_extension": ".py",
   "mimetype": "text/x-python",
   "name": "python",
   "nbconvert_exporter": "python",
   "pygments_lexer": "ipython3",
   "version": "3.7.2"
  }
 },
 "nbformat": 4,
 "nbformat_minor": 2
}
