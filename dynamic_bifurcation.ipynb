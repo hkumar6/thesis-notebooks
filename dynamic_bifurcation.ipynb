{
 "cells": [
  {
   "cell_type": "markdown",
   "metadata": {
    "slideshow": {
     "slide_type": "slide"
    }
   },
   "source": [
    "# Dynamic bifurcation of consensus\n",
    "\n",
    "We consider the fast-slow system:\n",
    "\n",
    "\\begin{equation}\\label{appendix_fast_slow}\n",
    "\\begin{aligned}\n",
    "\\dot{\\mathbf{x}} &= -D\\mathbf{x} + A\\mathbf{S}(\\mathbf{x}, u) \\\\\n",
    "\\dot{u} &= -\\varepsilon .\n",
    "\\end{aligned}\n",
    "\\end{equation}"
   ]
  },
  {
   "cell_type": "code",
   "execution_count": null,
   "metadata": {
    "slideshow": {
     "slide_type": "skip"
    }
   },
   "outputs": [],
   "source": [
    "import networkx as nx\n",
    "import numpy as np\n",
    "from scipy.integrate import solve_ivp\n",
    "import matplotlib.pyplot as plt\n",
    "import pylab\n",
    "import matplotlib2tikz as mplt2tikz\n",
    "import net_sym as ns"
   ]
  },
  {
   "cell_type": "code",
   "execution_count": null,
   "metadata": {
    "slideshow": {
     "slide_type": "subslide"
    }
   },
   "outputs": [],
   "source": [
    "g = ns.get_strongly_connected_digraph(10)\n",
    "# To take a graph from X, comment the line above\n",
    "# and uncomment the lines below\n",
    "# g = nx.DiGraph()\n",
    "# g.add_edges_from(([1,0],[0,2],[2,1]))\n",
    "N = nx.number_of_nodes(g)\n",
    "A = nx.adjacency_matrix(g)\n",
    "D = np.diag(np.asarray(np.sum(A, axis=1)).reshape(-1))"
   ]
  },
  {
   "cell_type": "markdown",
   "metadata": {},
   "source": [
    "In the system given by \\cref{appendix_fast_slow}, we take $[\\mathbf{S}(\\mathbf{x},u)]_i = S(x_i,u)$ and \n",
    "\n",
    "\\begin{equation}\n",
    "S(x,u) := x + u + x^2.\n",
    "\\end{equation}"
   ]
  },
  {
   "cell_type": "code",
   "execution_count": null,
   "metadata": {
    "slideshow": {
     "slide_type": "subslide"
    }
   },
   "outputs": [],
   "source": [
    "s_xu = lambda x,u: x + u + np.square(x)\n",
    "phi_xu = lambda x,u: s_xu(x,u) - x\n",
    "\n",
    "x_range = np.arange(-2.1, 2.1, 0.01)"
   ]
  },
  {
   "cell_type": "code",
   "execution_count": null,
   "metadata": {
    "scrolled": false,
    "slideshow": {
     "slide_type": "slide"
    },
    "tags": [
     "remove_cell"
    ]
   },
   "outputs": [],
   "source": [
    "u = 0\n",
    "plt.figure(figsize=(14,5))\n",
    "\n",
    "plt.subplot(121)\n",
    "plt.plot(x_range, s_xu(x_range, u), linestyle='-', color=\"black\")\n",
    "plt.plot(x_range, x_range, linestyle='--', color='red')\n",
    "plt.xlabel(r'$x$')\n",
    "plt.ylabel(r'$S(x,0.5)$')\n",
    "plt.grid()\n",
    "\n",
    "plt.subplot(122)\n",
    "plt.plot(x_range, -phi_xu(x_range, u), linestyle='-', color=\"black\")\n",
    "plt.plot(x_range, np.repeat(0,np.size(x_range)), linestyle='--', color='red')\n",
    "plt.xlabel(r'$x$')\n",
    "plt.ylabel(r'$\\phi(x,0.5)$')\n",
    "plt.grid()"
   ]
  },
  {
   "cell_type": "markdown",
   "metadata": {
    "slideshow": {
     "slide_type": "slide"
    }
   },
   "source": [
    "To integrate the system \\cref{appendix_fast_slow}, we use $\\varepsilon = 0.1$."
   ]
  },
  {
   "cell_type": "code",
   "execution_count": null,
   "metadata": {
    "slideshow": {
     "slide_type": "subslide"
    }
   },
   "outputs": [],
   "source": [
    "dt = 0.01\n",
    "epsilon = 0.1\n",
    "u_range = np.arange(0.7, 1.5, dt)\n",
    "n_iter = 1000\n",
    "x_n = np.zeros((np.size(u_range), N))\n",
    "\n",
    "u = 0.5\n",
    "\n",
    "f_t = lambda t,x: np.append(\n",
    "    -D.dot(x[:-1]) + A.dot(s_xu(x[:-1],x[-1])), \n",
    "    epsilon)\n",
    "res = solve_ivp(\n",
    "    fun=f_t, \n",
    "    t_span=[0,10090], \n",
    "    y0=np.append(-2 + np.random.rand(N)/10, -1), \n",
    "    method=\"BDF\")"
   ]
  },
  {
   "cell_type": "markdown",
   "metadata": {},
   "source": [
    "We find a reasonable index of the solution array before the values become too large."
   ]
  },
  {
   "cell_type": "code",
   "execution_count": null,
   "metadata": {},
   "outputs": [],
   "source": [
    "k = np.min(np.where(res.y[0,:] > 2))"
   ]
  },
  {
   "cell_type": "code",
   "execution_count": null,
   "metadata": {
    "slideshow": {
     "slide_type": "subslide"
    },
    "tags": [
     "remove_cell"
    ]
   },
   "outputs": [],
   "source": [
    "plt.figure(figsize=(7,5))\n",
    "plt.plot(res.y[0,0:k], label=r\"$x_1(t)$\")\n",
    "plt.plot(res.y[N,0:k], label=r\"$u(\\mathbf{x},t)$\")\n",
    "plt.xlabel(\"$t$\")\n",
    "plt.title(r\"Time series of $x_1$\")\n",
    "plt.legend()\n",
    "mplt2tikz.save(\"dynamic_bif_ts.tex\")"
   ]
  },
  {
   "cell_type": "markdown",
   "metadata": {},
   "source": [
    "Plot the diagram \\cref{fig_dyn_bif}."
   ]
  },
  {
   "cell_type": "code",
   "execution_count": null,
   "metadata": {
    "scrolled": true,
    "slideshow": {
     "slide_type": "subslide"
    }
   },
   "outputs": [],
   "source": [
    "plt.figure(figsize=(7,5))\n",
    "plt.plot(x_range, -phi_xu(x_range,0), color='black')\n",
    "plt.scatter(res.y[0,0:k], res.y[N,0:k], color='red')\n",
    "plt.xlabel(r\"$x$\")\n",
    "plt.ylabel(r\"$u$\")\n",
    "plt.title('Trajectory on the consensus space')\n",
    "mplt2tikz.save(\"dynamic_bif_trajectory.tex\")\n",
    "plt.grid()"
   ]
  }
 ],
 "metadata": {
  "celltoolbar": "Tags",
  "kernelspec": {
   "display_name": "Python 3",
   "language": "python",
   "name": "python3"
  },
  "language_info": {
   "codemirror_mode": {
    "name": "ipython",
    "version": 3
   },
   "file_extension": ".py",
   "mimetype": "text/x-python",
   "name": "python",
   "nbconvert_exporter": "python",
   "pygments_lexer": "ipython3",
   "version": "3.7.4"
  }
 },
 "nbformat": 4,
 "nbformat_minor": 2
}
