{
 "cells": [
  {
   "cell_type": "markdown",
   "metadata": {},
   "source": [
    "## 4 nodes"
   ]
  },
  {
   "cell_type": "code",
   "execution_count": 1,
   "metadata": {},
   "outputs": [],
   "source": [
    "%run ../imports.py"
   ]
  },
  {
   "cell_type": "code",
   "execution_count": 2,
   "metadata": {},
   "outputs": [],
   "source": [
    "G = nx.DiGraph()"
   ]
  },
  {
   "cell_type": "code",
   "execution_count": 3,
   "metadata": {},
   "outputs": [],
   "source": [
    "G.add_nodes_from([0,1,2,3])\n",
    "G.add_edges_from([\n",
    "    (0,1),\n",
    "    (1,2),\n",
    "    (1,3)\n",
    "])"
   ]
  },
  {
   "cell_type": "code",
   "execution_count": 4,
   "metadata": {},
   "outputs": [
    {
     "data": {
      "image/png": "[encoded data removed]",
      "text/plain": [
       "<Figure size 432x288 with 1 Axes>"
      ]
     },
     "metadata": {
      "needs_background": "light"
     },
     "output_type": "display_data"
    }
   ],
   "source": [
    "plt.axis('off')\n",
    "nx.draw_networkx(G)"
   ]
  },
  {
   "cell_type": "code",
   "execution_count": 5,
   "metadata": {},
   "outputs": [
    {
     "data": {
      "text/plain": [
       "2"
      ]
     },
     "execution_count": 5,
     "metadata": {},
     "output_type": "execute_result"
    }
   ],
   "source": [
    "L = out_degree_laplacian(G)\n",
    "np.linalg.matrix_rank(L)"
   ]
  },
  {
   "cell_type": "code",
   "execution_count": 6,
   "metadata": {},
   "outputs": [],
   "source": [
    "Q = orth_matrix(L).T\n",
    "rL = np.matmul(Q, np.matmul(L, np.transpose(Q)))\n",
    "sigma = solve_lyapunov(rL, np.identity(np.linalg.matrix_rank(L)))\n",
    "x = 2*np.matmul(np.transpose(Q), np.matmul(sigma, Q))\n",
    "eqL = np.linalg.pinv(x)"
   ]
  },
  {
   "cell_type": "code",
   "execution_count": 7,
   "metadata": {},
   "outputs": [
    {
     "data": {
      "text/plain": [
       "matrix([[ 0.1464, -0.8536,  0.3536,  0.3536],\n",
       "        [ 0.8536, -0.1464, -0.3536, -0.3536]])"
      ]
     },
     "execution_count": 7,
     "metadata": {},
     "output_type": "execute_result"
    }
   ],
   "source": [
    "Q"
   ]
  },
  {
   "cell_type": "code",
   "execution_count": 8,
   "metadata": {},
   "outputs": [
    {
     "data": {
      "text/plain": [
       "array([[ 0.2226, -0.0417],\n",
       "       [-0.0417,  0.694 ]])"
      ]
     },
     "execution_count": 8,
     "metadata": {},
     "output_type": "execute_result"
    }
   ],
   "source": [
    "sigma"
   ]
  },
  {
   "cell_type": "code",
   "execution_count": 9,
   "metadata": {},
   "outputs": [],
   "source": [
    "posG, negG = separate_graphs(eqL)"
   ]
  },
  {
   "cell_type": "code",
   "execution_count": 10,
   "metadata": {},
   "outputs": [
    {
     "name": "stderr",
     "output_type": "stream",
     "text": [
      "/usr/local/lib/python3.7/site-packages/networkx/drawing/nx_pylab.py:611: MatplotlibDeprecationWarning: isinstance(..., numbers.Number)\n",
      "  if cb.is_numlike(alpha):\n"
     ]
    },
    {
     "data": {
      "image/png": "[encoded data removed]",
      "text/plain": [
       "<Figure size 432x288 with 1 Axes>"
      ]
     },
     "metadata": {
      "needs_background": "light"
     },
     "output_type": "display_data"
    }
   ],
   "source": [
    "nx.draw_networkx(posG)"
   ]
  },
  {
   "cell_type": "code",
   "execution_count": 11,
   "metadata": {},
   "outputs": [
    {
     "data": {
      "image/png": "[encoded data removed]",
      "text/plain": [
       "<Figure size 432x288 with 1 Axes>"
      ]
     },
     "metadata": {
      "needs_background": "light"
     },
     "output_type": "display_data"
    }
   ],
   "source": [
    "nx.draw_networkx(negG)"
   ]
  },
  {
   "cell_type": "code",
   "execution_count": 12,
   "metadata": {},
   "outputs": [],
   "source": [
    "import dot2tex"
   ]
  },
  {
   "cell_type": "code",
   "execution_count": 13,
   "metadata": {},
   "outputs": [],
   "source": [
    "a = nx.drawing.nx_agraph.to_agraph(G)"
   ]
  },
  {
   "cell_type": "code",
   "execution_count": 14,
   "metadata": {},
   "outputs": [],
   "source": [
    "texcode = dot2tex.dot2tex(a.to_string(), format='tikz', crop=True)"
   ]
  },
  {
   "cell_type": "code",
   "execution_count": 15,
   "metadata": {},
   "outputs": [
    {
     "name": "stdout",
     "output_type": "stream",
     "text": [
      "\\documentclass{article}\n",
      "\\usepackage[x11names, svgnames, rgb]{xcolor}\n",
      "\\usepackage[utf8]{inputenc}\n",
      "\\usepackage{tikz}\n",
      "\\usetikzlibrary{snakes,arrows,shapes}\n",
      "\\usepackage{amsmath}\n",
      "%\n",
      "%\n",
      "\n",
      "\\usepackage[active,tightpage]{preview}\n",
      "\\PreviewEnvironment{tikzpicture}\n",
      "\\setlength\\PreviewBorder{0pt}%\n",
      "\n",
      "%\n",
      "\n",
      "\\begin{document}\n",
      "\\pagestyle{empty}\n",
      "%\n",
      "%\n",
      "%\n",
      "\n",
      "\\enlargethispage{100cm}\n",
      "% Start of code\n",
      "\\begin{tikzpicture}[>=latex',line join=bevel,]\n",
      "%%\n",
      "\\node (0) at (63.0bp,162.0bp) [draw,ellipse] {0};\n",
      "  \\node (1) at (63.0bp,90.0bp) [draw,ellipse] {1};\n",
      "  \\node (2) at (27.0bp,18.0bp) [draw,ellipse] {2};\n",
      "  \\node (3) at (99.0bp,18.0bp) [draw,ellipse] {3};\n",
      "  \\draw [->] (0) ..controls (63.0bp,136.13bp) and (63.0bp,126.97bp)  .. (1);\n",
      "  \\draw [->] (1) ..controls (50.04bp,64.081bp) and (44.846bp,53.693bp)  .. (2);\n",
      "  \\draw [->] (1) ..controls (75.96bp,64.081bp) and (81.154bp,53.693bp)  .. (3);\n",
      "%\n",
      "\\end{tikzpicture}\n",
      "% End of code\n",
      "\n",
      "%\n",
      "\\end{document}\n",
      "%\n",
      "\n",
      "\n",
      "\n"
     ]
    }
   ],
   "source": [
    "print(texcode)"
   ]
  }
 ],
 "metadata": {
  "kernelspec": {
   "display_name": "Python 3",
   "language": "python",
   "name": "python3"
  },
  "language_info": {
   "codemirror_mode": {
    "name": "ipython",
    "version": 3
   },
   "file_extension": ".py",
   "mimetype": "text/x-python",
   "name": "python",
   "nbconvert_exporter": "python",
   "pygments_lexer": "ipython3",
   "version": "3.7.3"
  }
 },
 "nbformat": 4,
 "nbformat_minor": 2
}
