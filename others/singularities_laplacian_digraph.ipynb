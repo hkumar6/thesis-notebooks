{
 "cells": [
  {
   "cell_type": "markdown",
   "metadata": {},
   "source": [
    "## Singularities in Laplacian of connected digraphs"
   ]
  },
  {
   "cell_type": "code",
   "execution_count": 1,
   "metadata": {},
   "outputs": [],
   "source": [
    "%run ../imports.py"
   ]
  },
  {
   "cell_type": "code",
   "execution_count": 2,
   "metadata": {},
   "outputs": [],
   "source": [
    "import matplotlib.pyplot as plt"
   ]
  },
  {
   "cell_type": "code",
   "execution_count": 3,
   "metadata": {},
   "outputs": [],
   "source": [
    "g = nx.read_gpickle(\"special_graph_4_228203488072557.pkl\")"
   ]
  },
  {
   "cell_type": "code",
   "execution_count": 4,
   "metadata": {},
   "outputs": [],
   "source": [
    "N = nx.number_of_nodes(g)\n",
    "node_list = np.arange(0,N)"
   ]
  },
  {
   "cell_type": "code",
   "execution_count": 5,
   "metadata": {},
   "outputs": [],
   "source": [
    "A = nx.adjacency_matrix(g, nodelist = node_list)\n",
    "D = np.diag(np.asarray(np.sum(A, axis=1)).reshape(-1))\n",
    "L = D-A"
   ]
  },
  {
   "cell_type": "code",
   "execution_count": 6,
   "metadata": {},
   "outputs": [],
   "source": [
    "v,e = np.linalg.eig(L)"
   ]
  },
  {
   "cell_type": "code",
   "execution_count": 7,
   "metadata": {},
   "outputs": [
    {
     "data": {
      "text/plain": [
       "array([5.1006e+00+0.j    , 8.8818e-16+0.j    , 3.0420e+00+1.5523j,\n",
       "       3.0420e+00-1.5523j, 1.8155e+00+0.j    ])"
      ]
     },
     "execution_count": 7,
     "metadata": {},
     "output_type": "execute_result"
    }
   ],
   "source": [
    "v"
   ]
  },
  {
   "cell_type": "code",
   "execution_count": 8,
   "metadata": {},
   "outputs": [
    {
     "data": {
      "text/plain": [
       "(array([-1.2043e+01+0.j    ,  2.5975e+00+6.2166j,  2.5975e+00-6.2166j,\n",
       "         6.9348e+00+0.j    ,  6.2818e-16+0.j    ]),\n",
       " matrix([[-0.5499+0.j    , -0.2983+0.2256j, -0.2983-0.2256j,\n",
       "           0.1093+0.j    , -0.0222+0.j    ],\n",
       "         [-0.3078+0.j    ,  0.4704-0.11j  ,  0.4704+0.11j  ,\n",
       "          -0.5722+0.j    , -0.6054+0.j    ],\n",
       "         [-0.43  +0.j    , -0.0415-0.4313j, -0.0415+0.4313j,\n",
       "          -0.1133+0.j    ,  0.1527+0.j    ],\n",
       "         [-0.5923+0.j    , -0.1867-0.2448j, -0.1867+0.2448j,\n",
       "           0.7811+0.j    , -0.4391+0.j    ],\n",
       "         [-0.259 +0.j    ,  0.5867+0.j    ,  0.5867-0.j    ,\n",
       "           0.1941+0.j    ,  0.6457+0.j    ]]))"
      ]
     },
     "execution_count": 8,
     "metadata": {},
     "output_type": "execute_result"
    }
   ],
   "source": [
    "np.linalg.eig(D-4.228203488072557*A)"
   ]
  },
  {
   "cell_type": "code",
   "execution_count": 9,
   "metadata": {},
   "outputs": [
    {
     "data": {
      "text/plain": [
       "(array([-13.1867+0.j    ,   2.5623+6.6364j,   2.5623-6.6364j,\n",
       "          7.146 +0.j    ,  -0.1968+0.j    ]),\n",
       " matrix([[-0.5516+0.j    ,  0.2992-0.2213j,  0.2992+0.2213j,\n",
       "           0.1092+0.j    , -0.0229+0.j    ],\n",
       "         [-0.3051+0.j    , -0.473 +0.1063j, -0.473 -0.1063j,\n",
       "          -0.5802+0.j    , -0.6008+0.j    ],\n",
       "         [-0.4285+0.j    ,  0.0365+0.4308j,  0.0365-0.4308j,\n",
       "          -0.114 +0.j    ,  0.156 +0.j    ],\n",
       "         [-0.5947+0.j    ,  0.1781+0.2492j,  0.1781-0.2492j,\n",
       "           0.7734+0.j    , -0.4475+0.j    ],\n",
       "         [-0.2555+0.j    , -0.5879+0.j    , -0.5879-0.j    ,\n",
       "           0.2007+0.j    ,  0.6433+0.j    ]]))"
      ]
     },
     "execution_count": 9,
     "metadata": {},
     "output_type": "execute_result"
    }
   ],
   "source": [
    "np.linalg.eig(D-4.528203488072557*A)"
   ]
  },
  {
   "cell_type": "code",
   "execution_count": 10,
   "metadata": {},
   "outputs": [
    {
     "data": {
      "image/png": "[encoded data removed]",
      "text/plain": [
       "<Figure size 432x288 with 1 Axes>"
      ]
     },
     "metadata": {
      "needs_background": "light"
     },
     "output_type": "display_data"
    }
   ],
   "source": [
    "nx.draw_networkx(g)"
   ]
  },
  {
   "cell_type": "code",
   "execution_count": 11,
   "metadata": {},
   "outputs": [],
   "source": [
    "#nx.write_gpickle(g, \"special_graph_4_228203488072557.pkl\")"
   ]
  }
 ],
 "metadata": {
  "kernelspec": {
   "display_name": "Python 3",
   "language": "python",
   "name": "python3"
  },
  "language_info": {
   "codemirror_mode": {
    "name": "ipython",
    "version": 3
   },
   "file_extension": ".py",
   "mimetype": "text/x-python",
   "name": "python",
   "nbconvert_exporter": "python",
   "pygments_lexer": "ipython3",
   "version": "3.7.3"
  }
 },
 "nbformat": 4,
 "nbformat_minor": 2
}
