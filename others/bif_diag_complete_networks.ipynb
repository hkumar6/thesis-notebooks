{
 "cells": [
  {
   "cell_type": "markdown",
   "metadata": {},
   "source": [
    "## Bifurcation diagrams for consensus on complete networks\n",
    "\n",
    "\n",
    "Franci, A., & Nov, O. C. (n.d.). A Realization Theory for Bio-inspired Collective Decision-Making. Retrieved from https://arxiv.org/pdf/1503.08526v3.pdf"
   ]
  },
  {
   "cell_type": "code",
   "execution_count": 1,
   "metadata": {},
   "outputs": [],
   "source": [
    "import networkx as nx\n",
    "import matplotlib.pyplot as plt\n",
    "from matplotlib.pyplot import pause\n",
    "from matplotlib.colors import Normalize\n",
    "import numpy as np\n",
    "from scipy.integrate import solve_ivp\n",
    "import pylab"
   ]
  },
  {
   "cell_type": "markdown",
   "metadata": {},
   "source": [
    "#### Network dynamics\n",
    "\n",
    "- Pitchfork bifurcation\n",
    "\n",
    "$\\dot{\\mathbf{x}} = -Dx + A\\cdot S_p(\\mathbf{x};u)$\n",
    "\n",
    "$S_p(x;u) = u\\cdot tanh(x)$\n",
    "\n",
    "- Saddle-Node\n",
    "\n",
    "$\\dot{\\mathbf{x}} = -Dx + A\\cdot S_{sn}(\\mathbf{x};u)$\n",
    "\n",
    "$S_{sn}(x;u) = ue^{(x+1)} - 1$\n",
    "\n",
    "- Transcritical\n",
    "\n",
    "$\\dot{\\mathbf{x}} = -Dx + A\\cdot S_t(\\mathbf{x};u)$\n",
    "\n",
    "$S_t(x;u) = x^2 + ux$"
   ]
  },
  {
   "cell_type": "markdown",
   "metadata": {},
   "source": [
    "### Complete network\n",
    "\n",
    "$d_{ii} = N-1$"
   ]
  },
  {
   "cell_type": "code",
   "execution_count": 2,
   "metadata": {},
   "outputs": [],
   "source": [
    "g = nx.complete_graph(10, create_using=nx.DiGraph())"
   ]
  },
  {
   "cell_type": "code",
   "execution_count": 3,
   "metadata": {},
   "outputs": [],
   "source": [
    "#color_map = []\n",
    "for i, n in g.nodes(data = True):\n",
    "    n['decision'] = 2*np.random.rand(1)[0]-1"
   ]
  },
  {
   "cell_type": "code",
   "execution_count": 4,
   "metadata": {},
   "outputs": [
    {
     "data": {
      "text/plain": [
       "NodeDataView({0: {'decision': -0.9317139084276036}, 1: {'decision': 0.20590068938296868}, 2: {'decision': 0.613210013302457}, 3: {'decision': 0.5407951105029871}, 4: {'decision': -0.9767764491531552}, 5: {'decision': -0.8405383725787801}, 6: {'decision': 0.35562657068625136}, 7: {'decision': 0.7909144836229718}, 8: {'decision': -0.19777720067577342}, 9: {'decision': -0.14840303351683382}})"
      ]
     },
     "execution_count": 4,
     "metadata": {},
     "output_type": "execute_result"
    }
   ],
   "source": [
    "g.nodes(data = True)"
   ]
  },
  {
   "cell_type": "code",
   "execution_count": 5,
   "metadata": {
    "scrolled": true
   },
   "outputs": [
    {
     "data": {
      "text/plain": [
       "[-0.9317139084276036,\n",
       " 0.20590068938296868,\n",
       " 0.613210013302457,\n",
       " 0.5407951105029871,\n",
       " -0.9767764491531552,\n",
       " -0.8405383725787801,\n",
       " 0.35562657068625136,\n",
       " 0.7909144836229718,\n",
       " -0.19777720067577342,\n",
       " -0.14840303351683382]"
      ]
     },
     "execution_count": 5,
     "metadata": {},
     "output_type": "execute_result"
    }
   ],
   "source": [
    "[n['decision'] for i, n in g.nodes(data = True)]"
   ]
  },
  {
   "cell_type": "code",
   "execution_count": 6,
   "metadata": {},
   "outputs": [],
   "source": [
    "A = nx.adjacency_matrix(g)\n",
    "D = np.diag(np.asarray(np.sum(nx.adjacency_matrix(g), axis=1)).reshape(-1))"
   ]
  },
  {
   "cell_type": "code",
   "execution_count": 7,
   "metadata": {
    "scrolled": true
   },
   "outputs": [
    {
     "data": {
      "text/plain": [
       "matrix([[-9,  1,  1,  1,  1,  1,  1,  1,  1,  1],\n",
       "        [ 1, -9,  1,  1,  1,  1,  1,  1,  1,  1],\n",
       "        [ 1,  1, -9,  1,  1,  1,  1,  1,  1,  1],\n",
       "        [ 1,  1,  1, -9,  1,  1,  1,  1,  1,  1],\n",
       "        [ 1,  1,  1,  1, -9,  1,  1,  1,  1,  1],\n",
       "        [ 1,  1,  1,  1,  1, -9,  1,  1,  1,  1],\n",
       "        [ 1,  1,  1,  1,  1,  1, -9,  1,  1,  1],\n",
       "        [ 1,  1,  1,  1,  1,  1,  1, -9,  1,  1],\n",
       "        [ 1,  1,  1,  1,  1,  1,  1,  1, -9,  1],\n",
       "        [ 1,  1,  1,  1,  1,  1,  1,  1,  1, -9]])"
      ]
     },
     "execution_count": 7,
     "metadata": {},
     "output_type": "execute_result"
    }
   ],
   "source": [
    "-D+A"
   ]
  },
  {
   "cell_type": "markdown",
   "metadata": {},
   "source": [
    "### Pitchfork"
   ]
  },
  {
   "cell_type": "code",
   "execution_count": 8,
   "metadata": {},
   "outputs": [],
   "source": [
    "dt = 0.01\n",
    "u_range = np.arange(0.7, 1.5, dt)\n",
    "n_iter = 1000\n",
    "N = nx.number_of_nodes(g)\n",
    "x_p = np.zeros((np.size(u_range), N))\n",
    "x_n = np.zeros((np.size(u_range), N))\n",
    "\n",
    "for i in np.arange(0,np.size(u_range)):\n",
    "    u = u_range[i]\n",
    "    f_p = lambda t,x: -D.dot(x) + u*A.dot(np.tanh(x))\n",
    "    res = solve_ivp(fun=f_p, t_span=[0,30], y0=np.random.rand(N))\n",
    "    x_p[i] = res.y[:,np.shape(res.y)[1]-1]\n",
    "\n",
    "for i in np.arange(0,np.size(u_range)):\n",
    "    u = u_range[i]\n",
    "    f_p = lambda t,x: -D.dot(x) + u*A.dot(np.tanh(x))\n",
    "    res = solve_ivp(fun=f_p, t_span=[0,30], y0=-np.random.rand(N))\n",
    "    x_n[i] = res.y[:,np.shape(res.y)[1]-1]"
   ]
  },
  {
   "cell_type": "markdown",
   "metadata": {},
   "source": [
    "$S_t = u \\dot tanh(x)$"
   ]
  },
  {
   "cell_type": "code",
   "execution_count": 9,
   "metadata": {},
   "outputs": [],
   "source": [
    "u_range_unstable = np.arange(1.2+dt, 1.5, dt)\n",
    "x_un = np.zeros((np.size(u_range_unstable), N))\n",
    "for i in np.arange(0,np.size(u_range_unstable)):\n",
    "    u = u_range_unstable[i]\n",
    "    f_p = lambda t,x: -D.dot(x) + A.dot(np.arctanh(x/u))\n",
    "    res = solve_ivp(fun=f_p, t_span=[0,30], y0=np.random.rand(N))\n",
    "    x_un[i] = res.y[:,np.shape(res.y)[1]-1]"
   ]
  },
  {
   "cell_type": "code",
   "execution_count": 10,
   "metadata": {
    "scrolled": true
   },
   "outputs": [
    {
     "data": {
      "image/png": "[encoded data removed]",
      "text/plain": [
       "<Figure size 432x288 with 1 Axes>"
      ]
     },
     "metadata": {
      "needs_background": "light"
     },
     "output_type": "display_data"
    }
   ],
   "source": [
    "plt.plot(u_range, x_p[:,0], color=\"black\")\n",
    "plt.plot(u_range, x_n[:,0], label=\"stable\", color=\"black\")\n",
    "plt.plot(u_range_unstable, x_un[:,0], label=\"unstable\", linestyle='--', color=\"black\")\n",
    "plt.legend()\n",
    "plt.show()"
   ]
  },
  {
   "cell_type": "markdown",
   "metadata": {},
   "source": [
    "### Transcritical"
   ]
  },
  {
   "cell_type": "code",
   "execution_count": 11,
   "metadata": {},
   "outputs": [],
   "source": [
    "dt = 0.01\n",
    "u_range = np.arange(0.7, 1.5, dt)\n",
    "n_iter = 1000\n",
    "N = nx.number_of_nodes(g)\n",
    "x_n = np.zeros((np.size(u_range), N))\n",
    "\n",
    "\n",
    "# forward time to get to stable fixed points\n",
    "for i in np.arange(0,np.size(u_range)):\n",
    "    u = u_range[i]\n",
    "    f_t = lambda t,x:-D.dot(x) + A.dot(np.square(x) + u*x)\n",
    "    res = solve_ivp(fun=f_t, t_span=[0,30], y0=-np.random.rand(10))\n",
    "    x_p[i] = res.y[:,np.shape(res.y)[1]-1]"
   ]
  },
  {
   "cell_type": "markdown",
   "metadata": {},
   "source": [
    "$S_{t} = x^2 + ux$\n",
    "\n",
    "$S_{t}^i = -(x-2+u)^2 - (2-u)(x-2+u)$"
   ]
  },
  {
   "cell_type": "code",
   "execution_count": 12,
   "metadata": {},
   "outputs": [],
   "source": [
    "x_n = np.zeros((np.size(u_range), N))\n",
    "# invert stability to get to unstable fixed points\n",
    "for i in np.arange(0,np.size(u_range)):\n",
    "    u = u_range[i]\n",
    "    f_t = lambda t,x:-D.dot(x) + A.dot(-np.square(x-2+u) - (2-u)*(x-2+u))\n",
    "    res = solve_ivp(fun=f_t, t_span=[0,30], y0=np.random.rand(10))\n",
    "    x_n[i] = res.y[:,np.shape(res.y)[1]-1]"
   ]
  },
  {
   "cell_type": "code",
   "execution_count": 13,
   "metadata": {
    "scrolled": true
   },
   "outputs": [
    {
     "data": {
      "image/png": "[encoded data removed]",
      "text/plain": [
       "<Figure size 432x288 with 1 Axes>"
      ]
     },
     "metadata": {
      "needs_background": "light"
     },
     "output_type": "display_data"
    }
   ],
   "source": [
    "plt.plot(u_range, x_p[:,0], label=\"stable\", color=\"black\")\n",
    "plt.plot(u_range, x_n[:,0], label=\"unstable\", color=\"black\", linestyle='--')\n",
    "plt.legend()\n",
    "plt.show()"
   ]
  },
  {
   "cell_type": "code",
   "execution_count": 14,
   "metadata": {},
   "outputs": [],
   "source": [
    "u = 0.8\n",
    "f_t = lambda t,x:-D.dot(x) + A.dot(np.square(x-1.2) + u*(x-1.2))\n",
    "res = solve_ivp(fun=f_t, t_span=[0,30], y0=np.repeat(0.2,10))\n",
    "#res = solve_ivp(fun=f_t, t_span=[0,30], y0=np.random.rand(N))"
   ]
  },
  {
   "cell_type": "code",
   "execution_count": 15,
   "metadata": {},
   "outputs": [
    {
     "data": {
      "text/plain": [
       "array([0.2000234, 0.2000234, 0.2000234, 0.2000234, 0.2000234, 0.2000234,\n",
       "       0.2000234, 0.2000234, 0.2000234, 0.2000234])"
      ]
     },
     "execution_count": 15,
     "metadata": {},
     "output_type": "execute_result"
    }
   ],
   "source": [
    "res.y[:,np.shape(res.y)[1]-1]"
   ]
  },
  {
   "cell_type": "code",
   "execution_count": 16,
   "metadata": {},
   "outputs": [],
   "source": [
    "u = -0.9\n",
    "f_t_1d = lambda t,x: u*x - x*x\n",
    "sol = solve_ivp(f_t_1d, [0,10], np.array([-0.89]))\n"
   ]
  },
  {
   "cell_type": "code",
   "execution_count": 17,
   "metadata": {},
   "outputs": [
    {
     "data": {
      "text/plain": [
       "array([-0.00979447])"
      ]
     },
     "execution_count": 17,
     "metadata": {},
     "output_type": "execute_result"
    }
   ],
   "source": [
    "sol.y[:,np.shape(sol.y)[1]-1]"
   ]
  },
  {
   "cell_type": "markdown",
   "metadata": {},
   "source": [
    "#### Saddle-node"
   ]
  },
  {
   "cell_type": "code",
   "execution_count": 18,
   "metadata": {},
   "outputs": [],
   "source": [
    "u_range = np.linspace(start=0.2, stop=np.exp(-1)-0.001, num=20)\n",
    "x_s = np.zeros((np.size(u_range), N))\n",
    "\n",
    "# stable\n",
    "for i in np.arange(0, np.size(u_range)):\n",
    "    u = u_range[i]\n",
    "    f_sn = lambda t,x: -D.dot(x) + A.dot(u*np.exp(x+1) - 1)\n",
    "    res = solve_ivp(fun=f_sn, t_span=[0,30], y0=np.random.rand(N)/10)\n",
    "    x_s[i] = res.y[:,np.shape(res.y)[1]-1]"
   ]
  },
  {
   "cell_type": "markdown",
   "metadata": {},
   "source": [
    "$S_{sn} = ue^{(x+1)}-1$\n",
    "\n",
    "$S_{sn}^i = ln(\\frac{x+1}{u})-1$"
   ]
  },
  {
   "cell_type": "code",
   "execution_count": 19,
   "metadata": {},
   "outputs": [],
   "source": [
    "x_us = np.zeros((np.size(u_range), N))\n",
    "# unstable\n",
    "for i in np.arange(0, np.size(u_range)):\n",
    "    u = u_range[i]\n",
    "    f_sn = lambda t,x: -D.dot(x) + A.dot(np.log((x+1)/u) - 1)\n",
    "    res = solve_ivp(fun=f_sn, t_span=[0,30], y0=np.random.rand(N)/10)\n",
    "    x_us[i] = res.y[:,np.shape(res.y)[1]-1]"
   ]
  },
  {
   "cell_type": "code",
   "execution_count": 20,
   "metadata": {},
   "outputs": [
    {
     "data": {
      "image/png": "[encoded data removed]",
      "text/plain": [
       "<Figure size 432x288 with 1 Axes>"
      ]
     },
     "metadata": {
      "needs_background": "light"
     },
     "output_type": "display_data"
    }
   ],
   "source": [
    "plt.plot(u_range, x_s[:,0], color=\"black\", label=\"stable\")\n",
    "plt.plot(u_range, x_us[:,0], color=\"black\", linestyle='--', label=\"unstable\")\n",
    "plt.legend()\n",
    "plt.show()"
   ]
  },
  {
   "cell_type": "code",
   "execution_count": null,
   "metadata": {},
   "outputs": [],
   "source": []
  }
 ],
 "metadata": {
  "kernelspec": {
   "display_name": "Python 3",
   "language": "python",
   "name": "python3"
  },
  "language_info": {
   "codemirror_mode": {
    "name": "ipython",
    "version": 3
   },
   "file_extension": ".py",
   "mimetype": "text/x-python",
   "name": "python",
   "nbconvert_exporter": "python",
   "pygments_lexer": "ipython3",
   "version": "3.7.4"
  }
 },
 "nbformat": 4,
 "nbformat_minor": 2
}
