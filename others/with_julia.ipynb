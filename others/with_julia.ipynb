{
 "cells": [
  {
   "cell_type": "code",
   "execution_count": 4,
   "metadata": {},
   "outputs": [],
   "source": [
    "using LightGraphs, SimpleWeightedGraphs"
   ]
  },
  {
   "cell_type": "code",
   "execution_count": 5,
   "metadata": {},
   "outputs": [
    {
     "data": {
      "text/plain": [
       "{6, 30} directed simple Int64 graph"
      ]
     },
     "execution_count": 5,
     "metadata": {},
     "output_type": "execute_result"
    }
   ],
   "source": [
    "g = CompleteDiGraph(6)"
   ]
  },
  {
   "cell_type": "code",
   "execution_count": 11,
   "metadata": {},
   "outputs": [
    {
     "data": {
      "text/plain": [
       "6×6 SparseArrays.SparseMatrixCSC{Int64,Int64} with 36 stored entries:\n",
       "  [1, 1]  =  5\n",
       "  [2, 1]  =  -1\n",
       "  [3, 1]  =  -1\n",
       "  [4, 1]  =  -1\n",
       "  [5, 1]  =  -1\n",
       "  [6, 1]  =  -1\n",
       "  [1, 2]  =  -1\n",
       "  [2, 2]  =  5\n",
       "  [3, 2]  =  -1\n",
       "  [4, 2]  =  -1\n",
       "  [5, 2]  =  -1\n",
       "  [6, 2]  =  -1\n",
       "  ⋮\n",
       "  [1, 5]  =  -1\n",
       "  [2, 5]  =  -1\n",
       "  [3, 5]  =  -1\n",
       "  [4, 5]  =  -1\n",
       "  [5, 5]  =  5\n",
       "  [6, 5]  =  -1\n",
       "  [1, 6]  =  -1\n",
       "  [2, 6]  =  -1\n",
       "  [3, 6]  =  -1\n",
       "  [4, 6]  =  -1\n",
       "  [5, 6]  =  -1\n",
       "  [6, 6]  =  5"
      ]
     },
     "execution_count": 11,
     "metadata": {},
     "output_type": "execute_result"
    }
   ],
   "source": [
    "laplacian_matrix(g)"
   ]
  },
  {
   "cell_type": "code",
   "execution_count": null,
   "metadata": {},
   "outputs": [],
   "source": []
  }
 ],
 "metadata": {
  "kernelspec": {
   "display_name": "Julia 1.0.3",
   "language": "julia",
   "name": "julia-1.0"
  },
  "language_info": {
   "file_extension": ".jl",
   "mimetype": "application/julia",
   "name": "julia",
   "version": "1.0.3"
  }
 },
 "nbformat": 4,
 "nbformat_minor": 2
}
