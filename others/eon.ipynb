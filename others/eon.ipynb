{
 "cells": [
  {
   "cell_type": "code",
   "execution_count": 2,
   "metadata": {},
   "outputs": [],
   "source": [
    "import EoN\n",
    "import networkx as nx\n",
    "from matplotlib import rc\n",
    "import matplotlib.pylab as plt\n",
    "\n",
    "\n",
    "import scipy\n",
    "import random\n"
   ]
  },
  {
   "cell_type": "code",
   "execution_count": 3,
   "metadata": {
    "collapsed": true
   },
   "outputs": [],
   "source": [
    "colors = ['#5AB3E6','#FF2000','#009A80','#E69A00', '#CD9AB3', '#0073B3',\n",
    "        '#F0E442']\n",
    "\n",
    "#commands to make legend be in LaTeX font\n",
    "#rc('font', **{'family': 'serif', 'serif': ['Computer Modern']})\n",
    "rc('text', usetex=True)\n",
    "\n",
    "\n",
    "\n",
    "rho = 0.025\n",
    "target_k = 6\n",
    "N=10000\n",
    "tau = 0.5\n",
    "gamma = 1.\n",
    "ts = scipy.arange(0,40,0.05)\n",
    "count = 50 #number of simulations to run for each"
   ]
  },
  {
   "cell_type": "code",
   "execution_count": 4,
   "metadata": {
    "collapsed": true
   },
   "outputs": [],
   "source": [
    "def generate_network(Pk, N, ntries = 100):\n",
    "    r'''Generates an N-node random network whose degree distribution is given by Pk'''\n",
    "    counter = 0\n",
    "    while counter< ntries:\n",
    "        counter += 1\n",
    "        ks = []\n",
    "        for ctr in range(N):\n",
    "            ks.append(Pk())\n",
    "        if sum(ks)%2 == 0:\n",
    "            break\n",
    "    if sum(ks)%2 ==1:\n",
    "        raise EoN.EoNError(\"cannot generate even degree sum\")\n",
    "    G = nx.configuration_model(ks)\n",
    "    return G"
   ]
  },
  {
   "cell_type": "code",
   "execution_count": 5,
   "metadata": {
    "collapsed": true
   },
   "outputs": [],
   "source": [
    "#An erdos-renyi network has a Poisson degree distribution.\n",
    "def PkPoisson():\n",
    "    return scipy.random.poisson(target_k)\n",
    "def PsiPoisson(x):\n",
    "    return scipy.exp(-target_k*(1-x))\n",
    "def DPsiPoisson(x):\n",
    "    return target_k*scipy.exp(-target_k*(1-x))"
   ]
  },
  {
   "cell_type": "code",
   "execution_count": 6,
   "metadata": {
    "collapsed": true
   },
   "outputs": [],
   "source": [
    "#a regular (homogeneous) network has a simple generating function.\n",
    "\n",
    "def PkHomogeneous():\n",
    "    return target_k\n",
    "def PsiHomogeneous(x):\n",
    "    return x**target_k\n",
    "def DPsiHomogeneous(x):\n",
    "    return target_k*x**(target_k-1)"
   ]
  },
  {
   "cell_type": "code",
   "execution_count": 7,
   "metadata": {
    "collapsed": true
   },
   "outputs": [],
   "source": [
    "#The following 30 - 40 lines or so are devoted to defining the degree distribution\n",
    "#and the generating function of the truncated power law network.\n",
    "\n",
    "#defining the power law degree distribution here:\n",
    "assert(target_k==6) #if you've changed target_k, then you'll\n",
    "                #want to update the range 1..61 and/or\n",
    "                #the exponent 1.5.\n",
    "\n",
    "PlPk = {}\n",
    "exponent = 1.5\n",
    "kave = 0\n",
    "for k in range(1,61):\n",
    "    PlPk[k]=k**(-exponent)\n",
    "    kave += k*PlPk[k]\n",
    "\n",
    "normfactor= sum(PlPk.values())\n",
    "for k in PlPk:\n",
    "    PlPk[k] /= normfactor\n",
    "\n",
    "def PkPowLaw():\n",
    "    r = random.random()\n",
    "    for k in PlPk:\n",
    "        r -= PlPk[k]\n",
    "        if r<0:\n",
    "            return k\n",
    "\n",
    "def PsiPowLaw(x):\n",
    "    #print PlPk\n",
    "    rval = 0\n",
    "    for k in PlPk:\n",
    "        rval += PlPk[k]*x**k\n",
    "    return rval\n",
    "\n",
    "def DPsiPowLaw(x):\n",
    "    rval = 0\n",
    "    for k in PlPk:\n",
    "        rval += k*PlPk[k]*x**(k-1)\n",
    "    return rval\n",
    "#End of power law network properties."
   ]
  },
  {
   "cell_type": "code",
   "execution_count": 8,
   "metadata": {},
   "outputs": [
    {
     "data": {
      "text/plain": [
       "<matplotlib.figure.Figure at 0x10d014128>"
      ]
     },
     "execution_count": 8,
     "metadata": {},
     "output_type": "execute_result"
    }
   ],
   "source": [
    "def process_degree_distribution(N, Pk, color, Psi, DPsi, symbol, label, count):\n",
    "    report_times = scipy.linspace(0,30,3000)\n",
    "    sums = 0*report_times\n",
    "    for cnt in range(count):\n",
    "        G = generate_network(Pk, N)\n",
    "        t, S, I, R = EoN.fast_SIR(G, tau, gamma, rho=rho)\n",
    "        plt.plot(t, I*1./N, '-', color = color,\n",
    "                                alpha = 0.1, linewidth=1)\n",
    "        subsampled_I = EoN.subsample(report_times, t, I)\n",
    "        sums += subsampled_I*1./N\n",
    "    ave = sums/count\n",
    "    plt.plot(report_times, ave, color = 'k')\n",
    "\n",
    "    #Do EBCM\n",
    "    N= G.order()#N is arbitrary, but included because our implementation of EBCM assumes N is given.\n",
    "    t, S, I, R = EoN.EBCM_uniform_introduction(N, Psi, DPsi, tau, gamma, rho, tmin=0, tmax=10, tcount = 41)\n",
    "    plt.plot(t, I/N, symbol, color = color, markeredgecolor='k', label=label)\n",
    "\n",
    "    for cnt in range(3):  #do 3 highlighted simulations\n",
    "        G = generate_network(Pk, N)\n",
    "        t, S, I, R = EoN.fast_SIR(G, tau, gamma, rho=rho)\n",
    "        plt.plot(t, I*1./N, '-', color = 'k', linewidth=0.1)\n",
    "\n",
    "\n",
    "\n",
    "\n",
    "plt.figure(figsize=(8,4))"
   ]
  },
  {
   "cell_type": "code",
   "execution_count": 10,
   "metadata": {},
   "outputs": [],
   "source": [
    "#Powerlaw\n",
    "process_degree_distribution(N, PkPowLaw, colors[3], PsiPowLaw, DPsiPowLaw, 'd', r'Truncated Power Law', count)\n",
    "\n",
    "#Poisson\n",
    "process_degree_distribution(N, PkPoisson, colors[0], PsiPoisson, DPsiPoisson, '^', r'Erd\\H{o}s--R\\'{e}nyi', count)\n",
    "\n",
    "#Homogeneous\n",
    "process_degree_distribution(N, PkHomogeneous, colors[2], PsiHomogeneous, DPsiHomogeneous, 's', r'Homogeneous', count)\n",
    "\n",
    "plt.xlabel(r'$t$', fontsize=12)\n",
    "plt.ylabel(r'Proportion infected', fontsize=12)\n",
    "plt.legend(loc = 'upper right', numpoints = 1)\n",
    "\n",
    "plt.axis(xmax=10, xmin=0, ymin=0)\n",
    "plt.savefig('fig1p2.pdf')"
   ]
  },
  {
   "cell_type": "code",
   "execution_count": null,
   "metadata": {
    "collapsed": true
   },
   "outputs": [],
   "source": []
  }
 ],
 "metadata": {
  "kernelspec": {
   "display_name": "Python 3",
   "language": "python",
   "name": "python3"
  },
  "language_info": {
   "codemirror_mode": {
    "name": "ipython",
    "version": 3
   },
   "file_extension": ".py",
   "mimetype": "text/x-python",
   "name": "python",
   "nbconvert_exporter": "python",
   "pygments_lexer": "ipython3",
   "version": "3.6.5"
  }
 },
 "nbformat": 4,
 "nbformat_minor": 2
}
