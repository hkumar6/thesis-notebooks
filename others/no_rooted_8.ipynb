{
 "cells": [
  {
   "cell_type": "markdown",
   "metadata": {
    "slideshow": {
     "slide_type": "slide"
    }
   },
   "source": [
    "## Trying to interpret singular vectors"
   ]
  },
  {
   "cell_type": "code",
   "execution_count": 1,
   "metadata": {
    "slideshow": {
     "slide_type": "skip"
    }
   },
   "outputs": [],
   "source": [
    "import networkx as nx\n",
    "from networkx.drawing.nx_agraph import write_dot, graphviz_layout\n",
    "import matplotlib.pyplot as plt\n",
    "import numpy as np\n",
    "from scipy.linalg import solve_lyapunov\n",
    "from scipy.integrate import solve_ivp"
   ]
  },
  {
   "cell_type": "code",
   "execution_count": 2,
   "metadata": {},
   "outputs": [
    {
     "data": {
      "text/plain": [
       "'%.2f'"
      ]
     },
     "execution_count": 2,
     "metadata": {},
     "output_type": "execute_result"
    }
   ],
   "source": [
    "%precision 2"
   ]
  },
  {
   "cell_type": "code",
   "execution_count": 3,
   "metadata": {
    "slideshow": {
     "slide_type": "slide"
    }
   },
   "outputs": [
    {
     "data": {
      "image/png": "[encoded data removed]",
      "text/plain": [
       "<Figure size 432x288 with 1 Axes>"
      ]
     },
     "metadata": {
      "needs_background": "light"
     },
     "output_type": "display_data"
    }
   ],
   "source": [
    "G = nx.DiGraph()\n",
    "G.add_nodes_from([0,1,2,3])\n",
    "G.add_edges_from([\n",
    "    (0,2),\n",
    "    (1,0),\n",
    "    (1,2),\n",
    "    (2,3)\n",
    "])\n",
    "N = nx.number_of_nodes(G)\n",
    "nx.draw_networkx(G, pos=graphviz_layout(G, prog='dot'))"
   ]
  },
  {
   "cell_type": "code",
   "execution_count": 4,
   "metadata": {
    "slideshow": {
     "slide_type": "subslide"
    }
   },
   "outputs": [
    {
     "data": {
      "text/plain": [
       "3"
      ]
     },
     "execution_count": 4,
     "metadata": {},
     "output_type": "execute_result"
    }
   ],
   "source": [
    "A = nx.adjacency_matrix(G)\n",
    "D = np.diag(np.asarray(np.sum(A, axis=1)).reshape(-1))\n",
    "L = D-A\n",
    "np.linalg.matrix_rank(L)"
   ]
  },
  {
   "cell_type": "markdown",
   "metadata": {
    "slideshow": {
     "slide_type": "slide"
    }
   },
   "source": [
    "### Symmetrization"
   ]
  },
  {
   "cell_type": "code",
   "execution_count": 5,
   "metadata": {},
   "outputs": [],
   "source": [
    "def orth_matrix(A):\n",
    "    u, s, vh = np.linalg.svd(A, full_matrices=True)\n",
    "    M, N = u.shape[0], vh.shape[1]\n",
    "    rcond = np.finfo(s.dtype).eps * max(M, N)\n",
    "    tol = np.amax(s) * rcond\n",
    "    num = np.sum(s > tol, dtype=int)\n",
    "    Q = vh[0:num,:].T.conj()\n",
    "    return Q"
   ]
  },
  {
   "cell_type": "code",
   "execution_count": 6,
   "metadata": {
    "slideshow": {
     "slide_type": "subslide"
    }
   },
   "outputs": [],
   "source": [
    "Q = orth_matrix(L).T\n",
    "rL = np.matmul(Q, np.matmul(L, np.transpose(Q)))\n",
    "sigma = solve_lyapunov(rL, np.identity(np.linalg.matrix_rank(L)))\n",
    "x = 2*np.matmul(np.transpose(Q), np.matmul(sigma, Q))\n",
    "eqL = np.linalg.pinv(x)"
   ]
  },
  {
   "cell_type": "code",
   "execution_count": 7,
   "metadata": {},
   "outputs": [
    {
     "data": {
      "text/plain": [
       "matrix([[-0.36,  0.78, -0.51,  0.1 ],\n",
       "        [-0.56,  0.24,  0.7 , -0.38],\n",
       "        [ 0.55,  0.3 , -0.08, -0.77]])"
      ]
     },
     "execution_count": 7,
     "metadata": {},
     "output_type": "execute_result"
    }
   ],
   "source": [
    "Q"
   ]
  },
  {
   "cell_type": "markdown",
   "metadata": {
    "slideshow": {
     "slide_type": "slide"
    }
   },
   "source": [
    "Create undirected graph from the equivalent Laplacian"
   ]
  },
  {
   "cell_type": "code",
   "execution_count": 8,
   "metadata": {
    "slideshow": {
     "slide_type": "subslide"
    }
   },
   "outputs": [],
   "source": [
    "eqG = nx.Graph()\n",
    "\n",
    "for i in np.arange(0,np.shape(eqL)[0]):\n",
    "    for j in np.arange(i+1,np.shape(eqL)[1]):\n",
    "        eqG.add_edge(i,j,weight=eqL[i,j])"
   ]
  },
  {
   "cell_type": "code",
   "execution_count": 11,
   "metadata": {
    "scrolled": true
   },
   "outputs": [
    {
     "data": {
      "text/plain": [
       "matrix([[ 1.07e+00, -8.57e-01, -2.14e-01,  6.38e-17],\n",
       "        [-8.57e-01,  1.29e+00, -4.29e-01, -1.77e-16],\n",
       "        [-2.14e-01, -4.29e-01,  1.14e+00, -5.00e-01],\n",
       "        [-1.38e-16,  9.69e-17, -5.00e-01,  5.00e-01]])"
      ]
     },
     "execution_count": 11,
     "metadata": {},
     "output_type": "execute_result"
    }
   ],
   "source": [
    "eqL"
   ]
  },
  {
   "cell_type": "code",
   "execution_count": 10,
   "metadata": {},
   "outputs": [
    {
     "data": {
      "text/plain": [
       "3"
      ]
     },
     "execution_count": 10,
     "metadata": {},
     "output_type": "execute_result"
    }
   ],
   "source": [
    "np.linalg.matrix_rank(eqL)"
   ]
  }
 ],
 "metadata": {
  "celltoolbar": "Slideshow",
  "kernelspec": {
   "display_name": "Python 3",
   "language": "python",
   "name": "python3"
  },
  "language_info": {
   "codemirror_mode": {
    "name": "ipython",
    "version": 3
   },
   "file_extension": ".py",
   "mimetype": "text/x-python",
   "name": "python",
   "nbconvert_exporter": "python",
   "pygments_lexer": "ipython3",
   "version": "3.7.3"
  }
 },
 "nbformat": 4,
 "nbformat_minor": 2
}
