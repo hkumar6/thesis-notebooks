{
 "cells": [
  {
   "cell_type": "markdown",
   "metadata": {
    "slideshow": {
     "slide_type": "slide"
    }
   },
   "source": [
    "# Fast-slow consensus system\n",
    "\n",
    "We consider the system:\n",
    "\n",
    "\\begin{equation}\n",
    "\\begin{aligned}\n",
    "\\dot{\\mathbf{x}} &= -D\\mathbf{x} + A\\mathbf{S}(\\mathbf{x}, u) \\\\\n",
    "\\dot{u} &= -\\varepsilon\n",
    "\\end{aligned}\n",
    "\\end{equation}\n",
    "\n",
    "where $[\\mathbf{S}(\\mathbf{x},u)]_i = S(x_i,u)$\n",
    "\n",
    "and $S(x,u) = 2x - \\frac{x^3}{3} + u$.\n",
    "\n",
    "Then, $\\phi(x,u) = S(x,u) - x$.\n",
    "\n",
    "Take $\\varepsilon = 10^{-4}$."
   ]
  },
  {
   "cell_type": "code",
   "execution_count": null,
   "metadata": {
    "slideshow": {
     "slide_type": "skip"
    },
    "tags": [
     "remove_cell"
    ]
   },
   "outputs": [],
   "source": [
    "import networkx as nx\n",
    "import numpy as np\n",
    "import matplotlib.pyplot as plt\n",
    "from scipy.integrate import solve_ivp\n",
    "import pylab\n",
    "from network2tikz import plot\n",
    "import matplotlib2tikz as mplt2tikz\n",
    "import net_sym as ns"
   ]
  },
  {
   "cell_type": "code",
   "execution_count": null,
   "metadata": {},
   "outputs": [],
   "source": [
    "N = 4\n",
    "g = ns.get_strongly_connected_digraph(N)"
   ]
  },
  {
   "cell_type": "code",
   "execution_count": null,
   "metadata": {
    "tags": [
     "remove_cell"
    ]
   },
   "outputs": [],
   "source": [
    "layout_dict = nx.circular_layout(g)\n",
    "plot(g, \"fast_slow_\"+str(N)+\".tex\", standalone=False, layout=layout_dict)\n",
    "nx.draw_networkx(g, pos=layout_dict)"
   ]
  },
  {
   "cell_type": "code",
   "execution_count": null,
   "metadata": {
    "slideshow": {
     "slide_type": "subslide"
    }
   },
   "outputs": [],
   "source": [
    "#g = nx.complete_graph(3, create_using=nx.DiGraph())\n",
    "A = nx.adjacency_matrix(g)\n",
    "D = np.diag(np.asarray(np.sum(nx.adjacency_matrix(g), axis=1)).reshape(-1))"
   ]
  },
  {
   "cell_type": "code",
   "execution_count": null,
   "metadata": {
    "slideshow": {
     "slide_type": "skip"
    }
   },
   "outputs": [],
   "source": [
    "from scipy.linalg import orth\n",
    "from scipy.linalg import null_space"
   ]
  },
  {
   "cell_type": "code",
   "execution_count": null,
   "metadata": {
    "slideshow": {
     "slide_type": "subslide"
    }
   },
   "outputs": [],
   "source": [
    "s_xu = lambda x,u: 2*x - np.power(x,3)/3 + u\n",
    "phi_xu = lambda x,u: x - s_xu(x,u)\n",
    "\n",
    "x_range = np.arange(-2, 2, 0.01)"
   ]
  },
  {
   "cell_type": "code",
   "execution_count": null,
   "metadata": {
    "tags": [
     "remove_cell"
    ]
   },
   "outputs": [],
   "source": [
    "p1 = np.argmin(s_xu(x_range[0:100], -1))\n",
    "p2 = 200 + np.argmax(s_xu(x_range[200:], -1))"
   ]
  },
  {
   "cell_type": "code",
   "execution_count": null,
   "metadata": {
    "scrolled": false,
    "slideshow": {
     "slide_type": "slide"
    },
    "tags": [
     "remove_cell"
    ]
   },
   "outputs": [],
   "source": [
    "u = 0.5\n",
    "plt.figure(figsize=(14,5))\n",
    "\n",
    "plt.subplot(121)\n",
    "plt.plot(x_range, s_xu(x_range, u), linestyle='-', color=\"black\")\n",
    "plt.plot(x_range, x_range, linestyle='--', color='red')\n",
    "plt.xlabel(r'$x$')\n",
    "plt.ylabel(r'$S(x,0.5)$')\n",
    "plt.grid()\n",
    "\n",
    "plt.subplot(122)\n",
    "plt.plot(x_range, phi_xu(x_range, u), linestyle='-', color=\"black\")\n",
    "plt.plot(x_range, np.repeat(0,np.size(x_range)), linestyle='--', color='red')\n",
    "plt.xlabel(r'$x$')\n",
    "plt.ylabel(r'$\\phi(x,0.5)$')\n",
    "plt.grid()"
   ]
  },
  {
   "cell_type": "markdown",
   "metadata": {
    "slideshow": {
     "slide_type": "slide"
    }
   },
   "source": [
    "Integrate"
   ]
  },
  {
   "cell_type": "code",
   "execution_count": null,
   "metadata": {
    "slideshow": {
     "slide_type": "subslide"
    }
   },
   "outputs": [],
   "source": [
    "dt = 0.01\n",
    "u_range = np.arange(0.7, 1.5, dt)\n",
    "n_iter = 1000\n",
    "N = nx.number_of_nodes(g)\n",
    "x_n = np.zeros((np.size(u_range), N))\n",
    "\n",
    "u = 0.5\n",
    "\n",
    "f_t = lambda t,x:np.append(\n",
    "    -D.dot(x[:-1]) + A.dot(s_xu(x[:-1],x[-1])),\n",
    "    -1e-4)\n",
    "res = solve_ivp(\n",
    "    fun=f_t, \n",
    "    t_span=[0,8000], \n",
    "    y0=np.append(1.2 + np.random.rand(N)/10, 0.1), \n",
    "    method=\"BDF\")"
   ]
  },
  {
   "cell_type": "code",
   "execution_count": null,
   "metadata": {
    "slideshow": {
     "slide_type": "subslide"
    },
    "tags": [
     "remove_cell"
    ]
   },
   "outputs": [],
   "source": [
    "plt.plot(res.y[0,:])\n",
    "plt.xlabel(\"time\")\n",
    "plt.ylabel(\"x\")\n",
    "plt.show()"
   ]
  },
  {
   "cell_type": "code",
   "execution_count": null,
   "metadata": {
    "scrolled": true,
    "slideshow": {
     "slide_type": "subslide"
    }
   },
   "outputs": [],
   "source": [
    "plt.plot(x_range, phi_xu(x_range,0), color='black')\n",
    "plt.plot(res.y[0,:], res.y[N,:], color='red')\n",
    "plt.xlabel('x')\n",
    "plt.ylabel('u')\n",
    "plt.title('Trajectory on the nullclines')\n",
    "plt.grid()"
   ]
  },
  {
   "cell_type": "markdown",
   "metadata": {
    "slideshow": {
     "slide_type": "slide"
    }
   },
   "source": [
    "### Periodic orbits\n",
    "\n",
    "\n",
    "We now make a modification to the previous system to get periodic orbits:\n",
    "\n",
    "\\begin{equation}\n",
    "\\begin{aligned}\n",
    "\\dot{\\mathbf{x}} &= -D\\mathbf{x} + A\\mathbf{S}(\\mathbf{x}, u) \\\\\n",
    "\\dot{u} &= -\\frac{\\varepsilon}{N} \\mathbf{1}_N^T\\mathbf{x}\n",
    "\\end{aligned}\n",
    "\\end{equation}"
   ]
  },
  {
   "cell_type": "code",
   "execution_count": null,
   "metadata": {
    "slideshow": {
     "slide_type": "subslide"
    }
   },
   "outputs": [],
   "source": [
    "f_t = lambda t,x:np.append(\n",
    "    -D.dot(x[:-1]) + A.dot(s_xu(x[:-1],x[-1])),\n",
    "    -np.mean(x[:-1])*0.05)\n",
    "res2 = solve_ivp(\n",
    "    fun=f_t,\n",
    "    t_span=[0,100],\n",
    "    y0=np.append(1.2 + np.random.rand(N)/10, 0.1),\n",
    "    method='BDF')"
   ]
  },
  {
   "cell_type": "code",
   "execution_count": null,
   "metadata": {
    "scrolled": true,
    "slideshow": {
     "slide_type": "subslide"
    },
    "tags": [
     "remove_cell"
    ]
   },
   "outputs": [],
   "source": [
    "plt.plot(res2.y[0,:])\n",
    "plt.xlabel(r\"t\")\n",
    "plt.ylabel(\"x\")\n",
    "plt.title(\"Time series of oscillations\")\n",
    "mplt2tikz.save(\"fast_slow_ts.tex\")"
   ]
  },
  {
   "cell_type": "code",
   "execution_count": null,
   "metadata": {
    "slideshow": {
     "slide_type": "subslide"
    }
   },
   "outputs": [],
   "source": [
    "plt.plot(x_range, phi_xu(x_range,0), color='black')\n",
    "plt.plot(res2.y[0,:], res2.y[N,:], color='red')\n",
    "plt.xlabel(r'$x$')\n",
    "plt.ylabel(r'$u$')\n",
    "plt.title(\"Oscillations on the consensus plane\")\n",
    "plt.grid()\n",
    "mplt2tikz.save(\"fast_slow_osc.tex\")"
   ]
  },
  {
   "cell_type": "markdown",
   "metadata": {},
   "source": [
    "### Reduced dynamics\n",
    "\n",
    "The reduced system dynamics are:\n",
    "\n",
    "\\begin{equation}\n",
    "\\begin{aligned}\n",
    "\\dot{x} &= \\phi(x,u) = x - \\frac{x^3}{3} + u\\\\\n",
    "\\dot{u} &= -\\varepsilon x\n",
    "\\end{aligned}\n",
    "\\end{equation}"
   ]
  },
  {
   "cell_type": "code",
   "execution_count": null,
   "metadata": {},
   "outputs": [],
   "source": [
    "red_f = lambda t,x: np.array([\n",
    "    -phi_xu(x[0],x[1]),\n",
    "    -x[0]*1e-4])\n",
    "red_res = solve_ivp(\n",
    "    fun=red_f,\n",
    "    t_span=[0,40000],\n",
    "    y0=[1.23,0.5],\n",
    "    method=\"BDF\")"
   ]
  },
  {
   "cell_type": "code",
   "execution_count": null,
   "metadata": {},
   "outputs": [],
   "source": [
    "plt.plot(red_res.y[0], red_res.y[1])\n",
    "plt.plot(x_range, phi_xu(x_range,0))\n",
    "plt.xlabel(r\"$x$\")\n",
    "plt.ylabel(r\"$u$\")\n",
    "plt.title(\"Reduced system\")\n",
    "plt.grid(True)\n",
    "mplt2tikz.save(\"fast_slow_reduced.tex\")"
   ]
  }
 ],
 "metadata": {
  "celltoolbar": "Tags",
  "kernelspec": {
   "display_name": "Python 3",
   "language": "python",
   "name": "python3"
  },
  "language_info": {
   "codemirror_mode": {
    "name": "ipython",
    "version": 3
   },
   "file_extension": ".py",
   "mimetype": "text/x-python",
   "name": "python",
   "nbconvert_exporter": "python",
   "pygments_lexer": "ipython3",
   "version": "3.7.4"
  }
 },
 "nbformat": 4,
 "nbformat_minor": 2
}
